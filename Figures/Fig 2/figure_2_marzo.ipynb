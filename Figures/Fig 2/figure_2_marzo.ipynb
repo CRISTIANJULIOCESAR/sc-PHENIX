{
  "cells": [
    {
      "cell_type": "markdown",
      "source": [
        ""
      ],
      "metadata": {
        "id": "RUCXSZaN2pMt"
      }
    },
    {
      "cell_type": "code",
      "execution_count": null,
      "metadata": {
        "colab": {
          "base_uri": "https://localhost:8080/"
        },
        "id": "3gAb-T08chGK",
        "outputId": "2d923514-1a81-4fcf-a78b-e35d524ebc76"
      },
      "outputs": [
        {
          "output_type": "stream",
          "name": "stdout",
          "text": [
            "Collecting umap-learn\n",
            "  Downloading umap-learn-0.5.2.tar.gz (86 kB)\n",
            "\u001b[K     |████████████████████████████████| 86 kB 3.0 MB/s \n",
            "\u001b[?25hCollecting hdbscan\n",
            "  Downloading hdbscan-0.8.28.tar.gz (5.2 MB)\n",
            "\u001b[K     |████████████████████████████████| 5.2 MB 35.1 MB/s \n",
            "\u001b[?25h  Installing build dependencies ... \u001b[?25l\u001b[?25hdone\n",
            "  Getting requirements to build wheel ... \u001b[?25l\u001b[?25hdone\n",
            "    Preparing wheel metadata ... \u001b[?25l\u001b[?25hdone\n",
            "Requirement already satisfied: numpy>=1.17 in /usr/local/lib/python3.7/dist-packages (from umap-learn) (1.21.5)\n",
            "Requirement already satisfied: scikit-learn>=0.22 in /usr/local/lib/python3.7/dist-packages (from umap-learn) (1.0.2)\n",
            "Requirement already satisfied: scipy>=1.0 in /usr/local/lib/python3.7/dist-packages (from umap-learn) (1.4.1)\n",
            "Requirement already satisfied: numba>=0.49 in /usr/local/lib/python3.7/dist-packages (from umap-learn) (0.51.2)\n",
            "Collecting pynndescent>=0.5\n",
            "  Downloading pynndescent-0.5.6.tar.gz (1.1 MB)\n",
            "\u001b[K     |████████████████████████████████| 1.1 MB 55.4 MB/s \n",
            "\u001b[?25hRequirement already satisfied: tqdm in /usr/local/lib/python3.7/dist-packages (from umap-learn) (4.63.0)\n",
            "Requirement already satisfied: setuptools in /usr/local/lib/python3.7/dist-packages (from numba>=0.49->umap-learn) (57.4.0)\n",
            "Requirement already satisfied: llvmlite<0.35,>=0.34.0.dev0 in /usr/local/lib/python3.7/dist-packages (from numba>=0.49->umap-learn) (0.34.0)\n",
            "Requirement already satisfied: joblib>=0.11 in /usr/local/lib/python3.7/dist-packages (from pynndescent>=0.5->umap-learn) (1.1.0)\n",
            "Requirement already satisfied: threadpoolctl>=2.0.0 in /usr/local/lib/python3.7/dist-packages (from scikit-learn>=0.22->umap-learn) (3.1.0)\n",
            "Requirement already satisfied: cython>=0.27 in /usr/local/lib/python3.7/dist-packages (from hdbscan) (0.29.28)\n",
            "Building wheels for collected packages: umap-learn, pynndescent, hdbscan\n",
            "  Building wheel for umap-learn (setup.py) ... \u001b[?25l\u001b[?25hdone\n",
            "  Created wheel for umap-learn: filename=umap_learn-0.5.2-py3-none-any.whl size=82708 sha256=1f548ab231f19cce849393003f50e3e1e3372bbf28964a62c2455bd5502f414e\n",
            "  Stored in directory: /root/.cache/pip/wheels/84/1b/c6/aaf68a748122632967cef4dffef68224eb16798b6793257d82\n",
            "  Building wheel for pynndescent (setup.py) ... \u001b[?25l\u001b[?25hdone\n",
            "  Created wheel for pynndescent: filename=pynndescent-0.5.6-py3-none-any.whl size=53943 sha256=5524ab442bc331382aad0b880640a38df59f2ce27022d3c4b210de2bde8e16c4\n",
            "  Stored in directory: /root/.cache/pip/wheels/03/f1/56/f80d72741e400345b5a5b50ec3d929aca581bf45e0225d5c50\n",
            "  Building wheel for hdbscan (PEP 517) ... \u001b[?25l\u001b[?25hdone\n",
            "  Created wheel for hdbscan: filename=hdbscan-0.8.28-cp37-cp37m-linux_x86_64.whl size=2330753 sha256=ff00e14b1d0239b98975c8b9518a384b99df37568cf47ff10bfca7574b231f02\n",
            "  Stored in directory: /root/.cache/pip/wheels/6e/7a/5e/259ccc841c085fc41b99ef4a71e896b62f5161f2bc8a14c97a\n",
            "Successfully built umap-learn pynndescent hdbscan\n",
            "Installing collected packages: pynndescent, umap-learn, hdbscan\n",
            "Successfully installed hdbscan-0.8.28 pynndescent-0.5.6 umap-learn-0.5.2\n",
            "Collecting phate\n",
            "  Downloading phate-1.0.7-py3-none-any.whl (23 kB)\n",
            "Collecting scprep\n",
            "  Downloading scprep-1.1.0-py3-none-any.whl (104 kB)\n",
            "\u001b[K     |████████████████████████████████| 104 kB 34.8 MB/s \n",
            "\u001b[?25hCollecting s_gd2\n",
            "  Downloading s_gd2-1.8-cp37-cp37m-manylinux2010_x86_64.whl (416 kB)\n",
            "\u001b[K     |████████████████████████████████| 416 kB 45.9 MB/s \n",
            "\u001b[?25hRequirement already satisfied: scipy>=1.1.0 in /usr/local/lib/python3.7/dist-packages (from phate) (1.4.1)\n",
            "Requirement already satisfied: future in /usr/local/lib/python3.7/dist-packages (from phate) (0.16.0)\n",
            "Collecting graphtools>=1.3.1\n",
            "  Downloading graphtools-1.5.2-py3-none-any.whl (45 kB)\n",
            "\u001b[K     |████████████████████████████████| 45 kB 3.0 MB/s \n",
            "\u001b[?25hCollecting Deprecated\n",
            "  Downloading Deprecated-1.2.13-py2.py3-none-any.whl (9.6 kB)\n",
            "Requirement already satisfied: scikit-learn>=0.20.0 in /usr/local/lib/python3.7/dist-packages (from phate) (1.0.2)\n",
            "Collecting tasklogger>=1.0\n",
            "  Downloading tasklogger-1.1.0-py3-none-any.whl (15 kB)\n",
            "Requirement already satisfied: matplotlib>=3.0 in /usr/local/lib/python3.7/dist-packages (from phate) (3.2.2)\n",
            "Requirement already satisfied: numpy>=1.16.0 in /usr/local/lib/python3.7/dist-packages (from phate) (1.21.5)\n",
            "Requirement already satisfied: packaging in /usr/local/lib/python3.7/dist-packages (from scprep) (21.3)\n",
            "Requirement already satisfied: decorator>=4.3.0 in /usr/local/lib/python3.7/dist-packages (from scprep) (4.4.2)\n",
            "Requirement already satisfied: pandas>=0.25 in /usr/local/lib/python3.7/dist-packages (from scprep) (1.3.5)\n",
            "Collecting pygsp>=0.5.1\n",
            "  Downloading PyGSP-0.5.1-py2.py3-none-any.whl (1.8 MB)\n",
            "\u001b[K     |████████████████████████████████| 1.8 MB 56.1 MB/s \n",
            "\u001b[?25hRequirement already satisfied: pyparsing!=2.0.4,!=2.1.2,!=2.1.6,>=2.0.1 in /usr/local/lib/python3.7/dist-packages (from matplotlib>=3.0->phate) (3.0.7)\n",
            "Requirement already satisfied: kiwisolver>=1.0.1 in /usr/local/lib/python3.7/dist-packages (from matplotlib>=3.0->phate) (1.3.2)\n",
            "Requirement already satisfied: cycler>=0.10 in /usr/local/lib/python3.7/dist-packages (from matplotlib>=3.0->phate) (0.11.0)\n",
            "Requirement already satisfied: python-dateutil>=2.1 in /usr/local/lib/python3.7/dist-packages (from matplotlib>=3.0->phate) (2.8.2)\n",
            "Requirement already satisfied: pytz>=2017.3 in /usr/local/lib/python3.7/dist-packages (from pandas>=0.25->scprep) (2018.9)\n",
            "Requirement already satisfied: six>=1.5 in /usr/local/lib/python3.7/dist-packages (from python-dateutil>=2.1->matplotlib>=3.0->phate) (1.15.0)\n",
            "Requirement already satisfied: joblib>=0.11 in /usr/local/lib/python3.7/dist-packages (from scikit-learn>=0.20.0->phate) (1.1.0)\n",
            "Requirement already satisfied: threadpoolctl>=2.0.0 in /usr/local/lib/python3.7/dist-packages (from scikit-learn>=0.20.0->phate) (3.1.0)\n",
            "Requirement already satisfied: wrapt<2,>=1.10 in /usr/local/lib/python3.7/dist-packages (from Deprecated->phate) (1.13.3)\n",
            "Installing collected packages: Deprecated, tasklogger, pygsp, scprep, s-gd2, graphtools, phate\n",
            "Successfully installed Deprecated-1.2.13 graphtools-1.5.2 phate-1.0.7 pygsp-0.5.1 s-gd2-1.8 scprep-1.1.0 tasklogger-1.1.0\n"
          ]
        }
      ],
      "source": [
        "!pip install umap-learn hdbscan\n",
        "!pip install phate scprep s_gd2\n",
        "%matplotlib inline\n",
        "import numpy as np\n",
        "import matplotlib.pyplot as plt\n",
        "import seaborn as sns; sns.set()\n",
        "import pandas as pd\n",
        "import numpy as np\n",
        "import plotly.express as px\n",
        "from sklearn import decomposition\n",
        "cmap='BuGn_r'\n",
        "lol= ['#a61551','#d9424d','#f67b4a','#febf6f','#feefa4','#f2f9a9','#bee5a0','#75c8a5','#388eba','#5e50a2']"
      ]
    },
    {
      "cell_type": "code",
      "execution_count": null,
      "metadata": {
        "id": "KrQm52wOcqJU"
      },
      "outputs": [],
      "source": [
        "import matplotlib.pyplot as plt\n",
        "import seaborn as sns\n",
        "from sklearn.datasets import fetch_openml\n",
        "from sklearn.model_selection import train_test_split\n",
        "\n",
        "import umap\n",
        "\n",
        "sns.set(context=\"paper\", style=\"white\")\n",
        "\n",
        "mnist = fetch_openml(\"mnist_784\", version=1)\n",
        "X_train, X_test, y_train, y_test = train_test_split(\n",
        "    mnist.data, mnist.target, stratify=mnist.target, random_state=42,train_size=0.9\n",
        ")"
      ]
    },
    {
      "cell_type": "code",
      "execution_count": null,
      "metadata": {
        "id": "TkbjHR_ectlo"
      },
      "outputs": [],
      "source": [
        "sns.set(context=\"paper\", style=\"white\")\n"
      ]
    },
    {
      "cell_type": "code",
      "execution_count": null,
      "metadata": {
        "id": "xgwSAc5-cwHE"
      },
      "outputs": [],
      "source": [
        "import s_gd2\n",
        "from scipy.spatial.distance import pdist, squareform"
      ]
    },
    {
      "cell_type": "code",
      "execution_count": null,
      "metadata": {
        "id": "eZSN8YwNcw8-"
      },
      "outputs": [],
      "source": [
        "def sgd(D, n_components=2, random_state=None, init=None,num_dimensions=None):\n",
        "    \"\"\"Metric MDS using stochastic gradient descent\n",
        "    Parameters\n",
        "    ----------\n",
        "    D : array-like, shape=[n_samples, n_samples]\n",
        "        pairwise distances\n",
        "    n_components : int, optional (default: 2)\n",
        "        number of dimensions in which to embed `D`\n",
        "    random_state : int or None, optional (default: None)\n",
        "        numpy random state\n",
        "    init : array-like or None\n",
        "        Initialization algorithm or state to use for MMDS\n",
        "    Returns\n",
        "    -------\n",
        "    Y : array-like, embedded data [n_sample, ndim]\n",
        "    \"\"\"\n",
        "\n",
        "    N = D.shape[0]\n",
        "    D = squareform(D)\n",
        "    # Metric MDS from s_gd2\n",
        "    Y = s_gd2.mds_direct(N, D, init=init, random_seed=random_state,num_dimensions=num_dimensions)\n",
        "    return Y"
      ]
    },
    {
      "cell_type": "code",
      "execution_count": null,
      "metadata": {
        "colab": {
          "base_uri": "https://localhost:8080/"
        },
        "id": "5LsSMS62cw6Y",
        "outputId": "81910ff6-e9b1-458a-e1b4-934a986ca14c"
      },
      "outputs": [
        {
          "output_type": "stream",
          "name": "stdout",
          "text": [
            "(7000, 500)\n"
          ]
        }
      ],
      "source": [
        "from sklearn import decomposition\n",
        "#Dimensionality reduction using PCA, denoise and better capture of the global structure \n",
        "#of the data for UMAP proyection\n",
        "pca = decomposition.PCA(n_components=500,random_state=1)\n",
        "pca.fit(X_test)\n",
        "X = pca.transform(X_test)\n",
        "print(X.shape)\n"
      ]
    },
    {
      "cell_type": "code",
      "execution_count": null,
      "metadata": {
        "colab": {
          "base_uri": "https://localhost:8080/"
        },
        "id": "ku-PSm19cw3g",
        "outputId": "e26ce76e-a427-4cba-cc0c-0cbbcb114361"
      },
      "outputs": [
        {
          "output_type": "stream",
          "name": "stdout",
          "text": [
            " afinity matrix done\n"
          ]
        }
      ],
      "source": [
        "knn= 30\n",
        "decay= 15\n",
        "t=5\n",
        "distance_matrix_dist =pdist(X)\n",
        "distance_matrix_u_pca = (squareform(distance_matrix_dist))\n",
        "n,m =distance_matrix_u_pca.shape\n",
        "\n",
        "E = np.zeros((m,m))\n",
        "knn_dst = np.sort(distance_matrix_u_pca, axis=1)\n",
        "    \n",
        "epsilon = knn_dst[:,knn]\n",
        "    \n",
        "    \n",
        "pdx_scale = (distance_matrix_u_pca / epsilon).T \n",
        "    \n",
        "E = np.exp(-1 * ( pdx_scale ** decay))\n",
        "    \n",
        "print(' afinity matrix done')\n",
        "    \n",
        "A = (E + E.T)\n",
        "    \n",
        "diff_deg = np.diag(np.sum(A,0))\n",
        "    \n",
        "diff_op = np.dot(np.diag(np.diag(diff_deg)**(-1)),A)\n",
        "    \n",
        "\n",
        "new_matrix_pca =  np.linalg.matrix_power(diff_op, t)"
      ]
    },
    {
      "cell_type": "code",
      "execution_count": null,
      "metadata": {
        "colab": {
          "base_uri": "https://localhost:8080/",
          "height": 381,
          "referenced_widgets": [
            "2410e808529042d5adb84b8a1e4f0aad",
            "d2b88ae56ded405890bb8649f8bbc662",
            "370f1651743b47f3a7489ec4f71eb77b",
            "a6d2526babaf4ecc89a56859f6ddfa09",
            "feaf1b6eb3d44ebd80337c88044b84f1",
            "1d08d39964cf4b34a5881870723bf94d",
            "5ed9cba1003e484a8624dff8d4495367",
            "d293af8286cf49fa91541203b6e12fd6",
            "9bc0f1637106446b93ea7156636ef9c2",
            "4d68180a9b8741d1aad0ae7a92226885",
            "433061b1180b4e4db688e17186406e43"
          ]
        },
        "id": "xz6CbvTPcw0s",
        "outputId": "b65b80da-cb65-44e0-8ca1-89441e37318b"
      },
      "outputs": [
        {
          "output_type": "stream",
          "name": "stdout",
          "text": [
            "UMAP(angular_rp_forest=True, metric='cosine', min_dist=0.3, n_components=60, n_epochs=10000, n_neighbors=5, random_state=1, verbose=True)\n",
            "Mon Mar  7 01:46:49 2022 Construct fuzzy simplicial set\n",
            "Mon Mar  7 01:46:49 2022 Finding Nearest Neighbors\n",
            "Mon Mar  7 01:46:49 2022 Building RP forest with 9 trees\n"
          ]
        },
        {
          "output_type": "stream",
          "name": "stderr",
          "text": [
            "/usr/local/lib/python3.7/dist-packages/numba/np/ufunc/parallel.py:363: NumbaWarning: The TBB threading layer requires TBB version 2019.5 or later i.e., TBB_INTERFACE_VERSION >= 11005. Found TBB_INTERFACE_VERSION = 9107. The TBB threading layer is disabled.\n",
            "  warnings.warn(problem)\n"
          ]
        },
        {
          "output_type": "stream",
          "name": "stdout",
          "text": [
            "Mon Mar  7 01:46:53 2022 NN descent for 13 iterations\n",
            "\t 1  /  13\n",
            "\t 2  /  13\n",
            "\t 3  /  13\n",
            "\t 4  /  13\n",
            "\t 5  /  13\n",
            "\tStopping threshold met -- exiting after 5 iterations\n",
            "Mon Mar  7 01:47:09 2022 Finished Nearest Neighbor Search\n",
            "Mon Mar  7 01:47:12 2022 Construct embedding\n"
          ]
        },
        {
          "output_type": "display_data",
          "data": {
            "application/vnd.jupyter.widget-view+json": {
              "model_id": "2410e808529042d5adb84b8a1e4f0aad",
              "version_minor": 0,
              "version_major": 2
            },
            "text/plain": [
              "Epochs completed:   0%|            0/10000 [00:00]"
            ]
          },
          "metadata": {}
        },
        {
          "output_type": "stream",
          "name": "stdout",
          "text": [
            "Mon Mar  7 01:54:20 2022 Finished embedding\n",
            "CPU times: user 7min 27s, sys: 4.35 s, total: 7min 31s\n",
            "Wall time: 7min 31s\n"
          ]
        }
      ],
      "source": [
        "fit = umap.UMAP(n_components =60,random_state=1,metric='cosine',verbose=True,n_neighbors=5,min_dist=0.3,n_epochs=10000)\n",
        "%time u_pca_umap = fit.fit_transform(X)"
      ]
    },
    {
      "cell_type": "code",
      "execution_count": null,
      "metadata": {
        "colab": {
          "base_uri": "https://localhost:8080/"
        },
        "id": "FWZf2a_0cwyD",
        "outputId": "a48954b1-460a-492e-912f-8d149d47434c"
      },
      "outputs": [
        {
          "output_type": "stream",
          "name": "stdout",
          "text": [
            " afinity matrix done\n"
          ]
        }
      ],
      "source": [
        "knn= 50\n",
        "decay= 15\n",
        "t=10\n",
        "distance_matrix_dist =pdist(u_pca_umap)\n",
        "distance_matrix_u_pca = (squareform(distance_matrix_dist))\n",
        "n,m =distance_matrix_u_pca.shape\n",
        "\n",
        "E = np.zeros((m,m))\n",
        "knn_dst = np.sort(distance_matrix_u_pca, axis=1)\n",
        "    \n",
        "epsilon = knn_dst[:,knn]\n",
        "    \n",
        "    \n",
        "pdx_scale = (distance_matrix_u_pca / epsilon).T \n",
        "    \n",
        "E = np.exp(-1 * ( pdx_scale ** decay))\n",
        "    \n",
        "print(' afinity matrix done')\n",
        "    \n",
        "A = (E + E.T)\n",
        "    \n",
        "diff_deg = np.diag(np.sum(A,0))\n",
        "    \n",
        "diff_op = np.dot(np.diag(np.diag(diff_deg)**(-1)),A)\n",
        "    \n",
        "\n",
        "new_matrix_pca_umap_diff =  np.linalg.matrix_power(diff_op, t)"
      ]
    },
    {
      "cell_type": "code",
      "execution_count": null,
      "metadata": {
        "id": "lzD0l3s4Ep3p"
      },
      "outputs": [],
      "source": [
        "pca_umap_diff_distancematrix =squareform(pdist(new_matrix_pca_umap_diff))\n",
        "pca_diff_distancematrix =squareform(pdist(new_matrix_pca))\n",
        "\n"
      ]
    },
    {
      "cell_type": "code",
      "execution_count": null,
      "metadata": {
        "id": "Wl0xHAmBxNnk"
      },
      "outputs": [],
      "source": [
        "pca_distancematrix =squareform(pdist(X))\n"
      ]
    },
    {
      "cell_type": "code",
      "execution_count": null,
      "metadata": {
        "colab": {
          "base_uri": "https://localhost:8080/"
        },
        "id": "NoTg79hi-Dbi",
        "outputId": "775829fa-d71c-4f42-ffe1-749d0fd10975"
      },
      "outputs": [
        {
          "output_type": "execute_result",
          "data": {
            "text/plain": [
              "array([9, 9, 6, ..., 6, 9, 9])"
            ]
          },
          "metadata": {},
          "execution_count": 12
        }
      ],
      "source": [
        "np.array(y_train).astype('int')"
      ]
    },
    {
      "cell_type": "code",
      "execution_count": null,
      "metadata": {
        "colab": {
          "base_uri": "https://localhost:8080/",
          "height": 315
        },
        "id": "F9rreG7q91Xx",
        "outputId": "87a3998e-bba3-4482-ec86-84033b3e587d"
      },
      "outputs": [
        {
          "output_type": "execute_result",
          "data": {
            "text/plain": [
              "array([[<matplotlib.axes._subplots.AxesSubplot object at 0x7fcbd549c6d0>]],\n",
              "      dtype=object)"
            ]
          },
          "metadata": {},
          "execution_count": 13
        },
        {
          "output_type": "display_data",
          "data": {
            "image/png": "[encoded data removed]",
            "text/plain": [
              "<Figure size 432x288 with 1 Axes>"
            ]
          },
          "metadata": {}
        }
      ],
      "source": [
        "pd.DataFrame(np.array(y_train).astype('int')).hist(bins=10)"
      ]
    },
    {
      "cell_type": "code",
      "execution_count": null,
      "metadata": {
        "colab": {
          "base_uri": "https://localhost:8080/"
        },
        "id": "FZntLkPABxjo",
        "outputId": "f03f00ec-e50a-45ca-cc2c-1e5c409884a8"
      },
      "outputs": [
        {
          "output_type": "execute_result",
          "data": {
            "text/plain": [
              "array([ 0, -1, -1, ...,  0,  0,  0])"
            ]
          },
          "metadata": {},
          "execution_count": 14
        }
      ],
      "source": [
        "\n",
        "from hdbscan import HDBSCAN\n",
        "\n",
        "min_cluster_size = 200\n",
        "min_samples = 20\n",
        "\n",
        "hdbscan_pca= HDBSCAN(min_cluster_size, min_samples, allow_single_cluster = True,metric='precomputed')\n",
        "labels = hdbscan_pca.fit_predict(pca_diff_distancematrix)\n",
        "\n",
        "labels"
      ]
    },
    {
      "cell_type": "code",
      "execution_count": null,
      "metadata": {
        "colab": {
          "base_uri": "https://localhost:8080/",
          "height": 275
        },
        "id": "in1VRQ_WBxhC",
        "outputId": "e0e77ee3-4086-403e-be8c-c622d45c3ef8"
      },
      "outputs": [
        {
          "output_type": "execute_result",
          "data": {
            "text/plain": [
              "<matplotlib.axes._subplots.AxesSubplot at 0x7fcbd3c7e210>"
            ]
          },
          "metadata": {},
          "execution_count": 15
        },
        {
          "output_type": "display_data",
          "data": {
            "image/png": "[encoded data removed]",
            "text/plain": [
              "<Figure size 432x288 with 2 Axes>"
            ]
          },
          "metadata": {}
        }
      ],
      "source": [
        "hdbscan_pca.condensed_tree_.plot(log_size=True)\n"
      ]
    },
    {
      "cell_type": "code",
      "execution_count": null,
      "metadata": {
        "colab": {
          "base_uri": "https://localhost:8080/",
          "height": 275
        },
        "id": "_8rMKxuWHfLP",
        "outputId": "5cdb31e3-76ca-4859-9da8-8b8f1da753c1"
      },
      "outputs": [
        {
          "output_type": "execute_result",
          "data": {
            "text/plain": [
              "<matplotlib.axes._subplots.AxesSubplot at 0x7fcbd50e4a90>"
            ]
          },
          "metadata": {},
          "execution_count": 16
        },
        {
          "output_type": "display_data",
          "data": {
            "image/png": "[encoded data removed]",
            "text/plain": [
              "<Figure size 432x288 with 2 Axes>"
            ]
          },
          "metadata": {}
        }
      ],
      "source": [
        "hdbscan_pca.condensed_tree_.plot(select_clusters=True,log_size=True)"
      ]
    },
    {
      "cell_type": "code",
      "execution_count": null,
      "metadata": {
        "colab": {
          "base_uri": "https://localhost:8080/"
        },
        "id": "8BwQpWuVBxeb",
        "outputId": "144a960d-ffc0-4cb5-d44f-f44e06c9e887"
      },
      "outputs": [
        {
          "output_type": "execute_result",
          "data": {
            "text/plain": [
              "array([4, 4, 2, ..., 1, 1, 5])"
            ]
          },
          "metadata": {},
          "execution_count": 17
        }
      ],
      "source": [
        "from hdbscan import HDBSCAN\n",
        "min_cluster_size = 200\n",
        "min_samples = 20\n",
        "\n",
        "hdbscan_pca_umap = HDBSCAN(min_cluster_size, min_samples, allow_single_cluster = True,metric='precomputed')\n",
        "labels_pca_umap = hdbscan_pca_umap.fit_predict(pca_umap_diff_distancematrix)\n",
        "\n",
        "labels_pca_umap"
      ]
    },
    {
      "cell_type": "code",
      "execution_count": null,
      "metadata": {
        "colab": {
          "base_uri": "https://localhost:8080/",
          "height": 275
        },
        "id": "yqWglJAtBxbU",
        "outputId": "c02f824a-bf17-46af-9822-d26aa5c6a137"
      },
      "outputs": [
        {
          "output_type": "execute_result",
          "data": {
            "text/plain": [
              "<matplotlib.axes._subplots.AxesSubplot at 0x7fcb7a20d990>"
            ]
          },
          "metadata": {},
          "execution_count": 18
        },
        {
          "output_type": "display_data",
          "data": {
            "image/png": "[encoded data removed]",
            "text/plain": [
              "<Figure size 432x288 with 2 Axes>"
            ]
          },
          "metadata": {}
        }
      ],
      "source": [
        "hdbscan_pca_umap.condensed_tree_.plot(log_size=True)\n"
      ]
    },
    {
      "cell_type": "code",
      "execution_count": null,
      "metadata": {
        "colab": {
          "base_uri": "https://localhost:8080/",
          "height": 275
        },
        "id": "gcvLmFJRD3cE",
        "outputId": "d8bee8fa-0f92-4e5b-bba3-a543ae472204"
      },
      "outputs": [
        {
          "output_type": "execute_result",
          "data": {
            "text/plain": [
              "<matplotlib.axes._subplots.AxesSubplot at 0x7fcbae3fdf90>"
            ]
          },
          "metadata": {},
          "execution_count": 19
        },
        {
          "output_type": "display_data",
          "data": {
            "image/png": "[encoded data removed]",
            "text/plain": [
              "<Figure size 432x288 with 2 Axes>"
            ]
          },
          "metadata": {}
        }
      ],
      "source": [
        "hdbscan_pca_umap.condensed_tree_.plot(select_clusters=True,log_size=True)"
      ]
    },
    {
      "cell_type": "code",
      "execution_count": null,
      "metadata": {
        "id": "TcR8qKK1KTTW"
      },
      "outputs": [],
      "source": [
        "from hdbscan import HDBSCAN\n",
        "min_cluster_size = 200\n",
        "min_samples = 20\n",
        "\n",
        "hdbscan_pca_space_no_diff = HDBSCAN(min_cluster_size, min_samples, allow_single_cluster = True,metric='precomputed')\n",
        "labels_pca_space_no_diff = hdbscan_pca_space_no_diff.fit_predict(pca_distancematrix)\n",
        "\n"
      ]
    },
    {
      "cell_type": "code",
      "execution_count": null,
      "metadata": {
        "colab": {
          "base_uri": "https://localhost:8080/",
          "height": 275
        },
        "id": "X2YUeIx1Ku1W",
        "outputId": "d031b306-cc19-4ffc-c37d-3e08e01c9361"
      },
      "outputs": [
        {
          "output_type": "execute_result",
          "data": {
            "text/plain": [
              "<matplotlib.axes._subplots.AxesSubplot at 0x7fcbdd9403d0>"
            ]
          },
          "metadata": {},
          "execution_count": 21
        },
        {
          "output_type": "display_data",
          "data": {
            "image/png": "[encoded data removed]",
            "text/plain": [
              "<Figure size 432x288 with 2 Axes>"
            ]
          },
          "metadata": {}
        }
      ],
      "source": [
        "hdbscan_pca_space_no_diff.condensed_tree_.plot(log_size=True)\n"
      ]
    },
    {
      "cell_type": "code",
      "execution_count": null,
      "metadata": {
        "colab": {
          "base_uri": "https://localhost:8080/",
          "height": 275
        },
        "id": "Hjj-ABnXLbCS",
        "outputId": "d3176027-52b7-441b-bc2a-62429c053fb1"
      },
      "outputs": [
        {
          "output_type": "execute_result",
          "data": {
            "text/plain": [
              "<matplotlib.axes._subplots.AxesSubplot at 0x7fcbdc5bd590>"
            ]
          },
          "metadata": {},
          "execution_count": 22
        },
        {
          "output_type": "display_data",
          "data": {
            "image/png": "[encoded data removed]",
            "text/plain": [
              "<Figure size 432x288 with 2 Axes>"
            ]
          },
          "metadata": {}
        }
      ],
      "source": [
        "hdbscan_pca_space_no_diff.condensed_tree_.plot(select_clusters=True,log_size=True)"
      ]
    },
    {
      "cell_type": "code",
      "source": [
        "cls_pca =np.array(hdbscan_pca.labels_)\n",
        "\n",
        "import numpy as np\n",
        "numpy_hdbscanarray = cls_pca\n",
        "\n",
        "parsing = {-1: 'Noise',\n",
        "             0: 'A',\n",
        "             1: 'B',\n",
        "             2: 'C',\n",
        "             3: 'D',\n",
        "             4: 'E',\n",
        "             5: 'F',\n",
        "             6: 'G',\n",
        "             7: 'H',\n",
        "             8: 'J',\n",
        "             9: 'K'\n",
        "}\n",
        "\n",
        "phoenetic = [parsing[cluster] for cluster in numpy_hdbscanarray]\n"
      ],
      "metadata": {
        "id": "ai_iBHneI_Zu"
      },
      "execution_count": null,
      "outputs": []
    },
    {
      "cell_type": "code",
      "execution_count": null,
      "metadata": {
        "id": "s2KxRk2aWWL4"
      },
      "outputs": [],
      "source": [
        "cls_pca =np.array(hdbscan_pca.labels_)\n",
        "cls_pca=[parsing[cluster] for cluster in cls_pca]\n",
        "\n",
        "cls_pca_umap =hdbscan_pca_umap.labels_\n",
        "cls_pca_umap=[parsing[cluster] for cluster in cls_pca_umap]\n",
        "\n",
        "\n",
        "cls_real= np.array(y_test).astype('int')\n",
        "#cls_real=[parsing[cluster] for cluster in cls_real]\n",
        "\n",
        "pca_space= np.array(labels_pca_space_no_diff)\n",
        "pca_space=[parsing[cluster] for cluster in pca_space]"
      ]
    },
    {
      "cell_type": "code",
      "execution_count": null,
      "metadata": {
        "colab": {
          "base_uri": "https://localhost:8080/",
          "height": 423
        },
        "id": "IIiXC3FkXQMc",
        "outputId": "0a00e9f9-49f8-4ad5-a1f8-75690583148b"
      },
      "outputs": [
        {
          "output_type": "execute_result",
          "data": {
            "text/html": [
              "\n",
              "  <div id=\"df-e3628d37-a768-47b8-b3e5-0efbfbfc9caf\">\n",
              "    <div class=\"colab-df-container\">\n",
              "      <div>\n",
              "<style scoped>\n",
              "    .dataframe tbody tr th:only-of-type {\n",
              "        vertical-align: middle;\n",
              "    }\n",
              "\n",
              "    .dataframe tbody tr th {\n",
              "        vertical-align: top;\n",
              "    }\n",
              "\n",
              "    .dataframe thead th {\n",
              "        text-align: right;\n",
              "    }\n",
              "</style>\n",
              "<table border=\"1\" class=\"dataframe\">\n",
              "  <thead>\n",
              "    <tr style=\"text-align: right;\">\n",
              "      <th></th>\n",
              "      <th>HDBSCAN clusters of diffusion on PCA space</th>\n",
              "      <th>HDBSCAN clusters of diffusion on PCA-UMAP space</th>\n",
              "      <th>MNIST #</th>\n",
              "      <th>HDBSCAN clusters of PCA space</th>\n",
              "    </tr>\n",
              "  </thead>\n",
              "  <tbody>\n",
              "    <tr>\n",
              "      <th>0</th>\n",
              "      <td>A</td>\n",
              "      <td>E</td>\n",
              "      <td>1</td>\n",
              "      <td>Noise</td>\n",
              "    </tr>\n",
              "    <tr>\n",
              "      <th>1</th>\n",
              "      <td>Noise</td>\n",
              "      <td>E</td>\n",
              "      <td>0</td>\n",
              "      <td>Noise</td>\n",
              "    </tr>\n",
              "    <tr>\n",
              "      <th>2</th>\n",
              "      <td>Noise</td>\n",
              "      <td>C</td>\n",
              "      <td>0</td>\n",
              "      <td>Noise</td>\n",
              "    </tr>\n",
              "    <tr>\n",
              "      <th>3</th>\n",
              "      <td>A</td>\n",
              "      <td>G</td>\n",
              "      <td>9</td>\n",
              "      <td>Noise</td>\n",
              "    </tr>\n",
              "    <tr>\n",
              "      <th>4</th>\n",
              "      <td>A</td>\n",
              "      <td>G</td>\n",
              "      <td>4</td>\n",
              "      <td>Noise</td>\n",
              "    </tr>\n",
              "    <tr>\n",
              "      <th>...</th>\n",
              "      <td>...</td>\n",
              "      <td>...</td>\n",
              "      <td>...</td>\n",
              "      <td>...</td>\n",
              "    </tr>\n",
              "    <tr>\n",
              "      <th>6995</th>\n",
              "      <td>A</td>\n",
              "      <td>B</td>\n",
              "      <td>5</td>\n",
              "      <td>Noise</td>\n",
              "    </tr>\n",
              "    <tr>\n",
              "      <th>6996</th>\n",
              "      <td>A</td>\n",
              "      <td>E</td>\n",
              "      <td>1</td>\n",
              "      <td>A</td>\n",
              "    </tr>\n",
              "    <tr>\n",
              "      <th>6997</th>\n",
              "      <td>A</td>\n",
              "      <td>B</td>\n",
              "      <td>3</td>\n",
              "      <td>Noise</td>\n",
              "    </tr>\n",
              "    <tr>\n",
              "      <th>6998</th>\n",
              "      <td>A</td>\n",
              "      <td>B</td>\n",
              "      <td>8</td>\n",
              "      <td>Noise</td>\n",
              "    </tr>\n",
              "    <tr>\n",
              "      <th>6999</th>\n",
              "      <td>A</td>\n",
              "      <td>F</td>\n",
              "      <td>7</td>\n",
              "      <td>Noise</td>\n",
              "    </tr>\n",
              "  </tbody>\n",
              "</table>\n",
              "<p>7000 rows × 4 columns</p>\n",
              "</div>\n",
              "      <button class=\"colab-df-convert\" onclick=\"convertToInteractive('df-e3628d37-a768-47b8-b3e5-0efbfbfc9caf')\"\n",
              "              title=\"Convert this dataframe to an interactive table.\"\n",
              "              style=\"display:none;\">\n",
              "        \n",
              "  <svg xmlns=\"http://www.w3.org/2000/svg\" height=\"24px\"viewBox=\"0 0 24 24\"\n",
              "       width=\"24px\">\n",
              "    <path d=\"M0 0h24v24H0V0z\" fill=\"none\"/>\n",
              "    <path d=\"M18.56 5.44l.94 2.06.94-2.06 2.06-.94-2.06-.94-.94-2.06-.94 2.06-2.06.94zm-11 1L8.5 8.5l.94-2.06 2.06-.94-2.06-.94L8.5 2.5l-.94 2.06-2.06.94zm10 10l.94 2.06.94-2.06 2.06-.94-2.06-.94-.94-2.06-.94 2.06-2.06.94z\"/><path d=\"M17.41 7.96l-1.37-1.37c-.4-.4-.92-.59-1.43-.59-.52 0-1.04.2-1.43.59L10.3 9.45l-7.72 7.72c-.78.78-.78 2.05 0 2.83L4 21.41c.39.39.9.59 1.41.59.51 0 1.02-.2 1.41-.59l7.78-7.78 2.81-2.81c.8-.78.8-2.07 0-2.86zM5.41 20L4 18.59l7.72-7.72 1.47 1.35L5.41 20z\"/>\n",
              "  </svg>\n",
              "      </button>\n",
              "      \n",
              "  <style>\n",
              "    .colab-df-container {\n",
              "      display:flex;\n",
              "      flex-wrap:wrap;\n",
              "      gap: 12px;\n",
              "    }\n",
              "\n",
              "    .colab-df-convert {\n",
              "      background-color: #E8F0FE;\n",
              "      border: none;\n",
              "      border-radius: 50%;\n",
              "      cursor: pointer;\n",
              "      display: none;\n",
              "      fill: #1967D2;\n",
              "      height: 32px;\n",
              "      padding: 0 0 0 0;\n",
              "      width: 32px;\n",
              "    }\n",
              "\n",
              "    .colab-df-convert:hover {\n",
              "      background-color: #E2EBFA;\n",
              "      box-shadow: 0px 1px 2px rgba(60, 64, 67, 0.3), 0px 1px 3px 1px rgba(60, 64, 67, 0.15);\n",
              "      fill: #174EA6;\n",
              "    }\n",
              "\n",
              "    [theme=dark] .colab-df-convert {\n",
              "      background-color: #3B4455;\n",
              "      fill: #D2E3FC;\n",
              "    }\n",
              "\n",
              "    [theme=dark] .colab-df-convert:hover {\n",
              "      background-color: #434B5C;\n",
              "      box-shadow: 0px 1px 3px 1px rgba(0, 0, 0, 0.15);\n",
              "      filter: drop-shadow(0px 1px 2px rgba(0, 0, 0, 0.3));\n",
              "      fill: #FFFFFF;\n",
              "    }\n",
              "  </style>\n",
              "\n",
              "      <script>\n",
              "        const buttonEl =\n",
              "          document.querySelector('#df-e3628d37-a768-47b8-b3e5-0efbfbfc9caf button.colab-df-convert');\n",
              "        buttonEl.style.display =\n",
              "          google.colab.kernel.accessAllowed ? 'block' : 'none';\n",
              "\n",
              "        async function convertToInteractive(key) {\n",
              "          const element = document.querySelector('#df-e3628d37-a768-47b8-b3e5-0efbfbfc9caf');\n",
              "          const dataTable =\n",
              "            await google.colab.kernel.invokeFunction('convertToInteractive',\n",
              "                                                     [key], {});\n",
              "          if (!dataTable) return;\n",
              "\n",
              "          const docLinkHtml = 'Like what you see? Visit the ' +\n",
              "            '<a target=\"_blank\" href=https://colab.research.google.com/notebooks/data_table.ipynb>data table notebook</a>'\n",
              "            + ' to learn more about interactive tables.';\n",
              "          element.innerHTML = '';\n",
              "          dataTable['output_type'] = 'display_data';\n",
              "          await google.colab.output.renderOutput(dataTable, element);\n",
              "          const docLink = document.createElement('div');\n",
              "          docLink.innerHTML = docLinkHtml;\n",
              "          element.appendChild(docLink);\n",
              "        }\n",
              "      </script>\n",
              "    </div>\n",
              "  </div>\n",
              "  "
            ],
            "text/plain": [
              "     HDBSCAN clusters of diffusion on PCA space  \\\n",
              "0                                             A   \n",
              "1                                         Noise   \n",
              "2                                         Noise   \n",
              "3                                             A   \n",
              "4                                             A   \n",
              "...                                         ...   \n",
              "6995                                          A   \n",
              "6996                                          A   \n",
              "6997                                          A   \n",
              "6998                                          A   \n",
              "6999                                          A   \n",
              "\n",
              "     HDBSCAN clusters of diffusion on PCA-UMAP space MNIST #  \\\n",
              "0                                                  E       1   \n",
              "1                                                  E       0   \n",
              "2                                                  C       0   \n",
              "3                                                  G       9   \n",
              "4                                                  G       4   \n",
              "...                                              ...     ...   \n",
              "6995                                               B       5   \n",
              "6996                                               E       1   \n",
              "6997                                               B       3   \n",
              "6998                                               B       8   \n",
              "6999                                               F       7   \n",
              "\n",
              "     HDBSCAN clusters of PCA space  \n",
              "0                            Noise  \n",
              "1                            Noise  \n",
              "2                            Noise  \n",
              "3                            Noise  \n",
              "4                            Noise  \n",
              "...                            ...  \n",
              "6995                         Noise  \n",
              "6996                             A  \n",
              "6997                         Noise  \n",
              "6998                         Noise  \n",
              "6999                         Noise  \n",
              "\n",
              "[7000 rows x 4 columns]"
            ]
          },
          "metadata": {},
          "execution_count": 90
        }
      ],
      "source": [
        "df= pd.DataFrame([cls_pca,cls_pca_umap,cls_real,pca_space]).T.rename(columns = {0: 'HDBSCAN clusters of diffusion on PCA space', 1: 'HDBSCAN clusters of diffusion on PCA-UMAP space',2:'MNIST #',3:'HDBSCAN clusters of PCA space'}, inplace = False)\n",
        "df"
      ]
    },
    {
      "cell_type": "code",
      "execution_count": null,
      "metadata": {
        "id": "mLRi1DbvgOdi"
      },
      "outputs": [],
      "source": [
        "sns.set_theme(style=\"white\", rc={\"axes.facecolor\": (0, 0, 0, 0)})\n"
      ]
    },
    {
      "cell_type": "code",
      "execution_count": null,
      "metadata": {
        "colab": {
          "base_uri": "https://localhost:8080/",
          "height": 437
        },
        "id": "ScQSk33eXqop",
        "outputId": "ff3ffb89-05c2-4f6a-9637-716f76eb6d26"
      },
      "outputs": [
        {
          "output_type": "display_data",
          "data": {
            "image/png": "[encoded data removed]",
            "text/plain": [
              "<Figure size 924.175x432 with 1 Axes>"
            ]
          },
          "metadata": {}
        }
      ],
      "source": [
        "#ax = sns.countplot(y=\"cls_pca_umap\", hue=\"cls_real\", data=df,orient='v')\n",
        "g = sns.catplot(x=\"HDBSCAN clusters of diffusion on PCA space\", hue=\"MNIST #\",\n",
        "                data=df, kind=\"count\",\n",
        "                height=6, aspect=2);\n"
      ]
    },
    {
      "cell_type": "code",
      "execution_count": null,
      "metadata": {
        "colab": {
          "base_uri": "https://localhost:8080/",
          "height": 437
        },
        "id": "7MlPZdIyc30m",
        "outputId": "1b397774-2a91-49b2-d6a3-0e4f4d11842e"
      },
      "outputs": [
        {
          "output_type": "display_data",
          "data": {
            "image/png": "[encoded data removed]",
            "text/plain": [
              "<Figure size 924.175x432 with 1 Axes>"
            ]
          },
          "metadata": {}
        }
      ],
      "source": [
        "#ax = sns.countplot(y=\"cls_pca_umap\", hue=\"cls_real\", data=df,orient='v')\n",
        "g = sns.catplot(x=\"HDBSCAN clusters of diffusion on PCA-UMAP space\", hue=\"MNIST #\",\n",
        "                data=df, kind=\"count\",\n",
        "                height=6, aspect=2,order=[\"Noise\", \"A\",'B','C','D','E','F','G']);\n"
      ]
    },
    {
      "cell_type": "code",
      "execution_count": null,
      "metadata": {
        "colab": {
          "base_uri": "https://localhost:8080/",
          "height": 437
        },
        "id": "4z2Rk2G1LP8a",
        "outputId": "dea01a85-d530-4df2-bdcc-5586f73fac70"
      },
      "outputs": [
        {
          "output_type": "display_data",
          "data": {
            "image/png": "[encoded data removed]",
            "text/plain": [
              "<Figure size 924.175x432 with 1 Axes>"
            ]
          },
          "metadata": {}
        }
      ],
      "source": [
        "#ax = sns.countplot(y=\"cls_pca_umap\", hue=\"cls_real\", data=df,orient='v')\n",
        "g = sns.catplot(x=\"HDBSCAN clusters of PCA space\", hue=\"MNIST #\",\n",
        "                data=df, kind=\"count\",\n",
        "                height=6, aspect=2,order=[\"Noise\", \"A\"]);"
      ]
    },
    {
      "cell_type": "code",
      "source": [
        "selection_palette=sns.color_palette('deep', 10)\n",
        "selection_palette"
      ],
      "metadata": {
        "id": "LcbvZS6P_UKw",
        "colab": {
          "base_uri": "https://localhost:8080/",
          "height": 76
        },
        "outputId": "cf94dbb6-1c47-492a-a20d-ee8a91c2cdb8"
      },
      "execution_count": null,
      "outputs": [
        {
          "output_type": "execute_result",
          "data": {
            "text/html": [
              "<svg  width=\"550\" height=\"55\"><rect x=\"0\" y=\"0\" width=\"55\" height=\"55\" style=\"fill:#4c72b0;stroke-width:2;stroke:rgb(255,255,255)\"/><rect x=\"55\" y=\"0\" width=\"55\" height=\"55\" style=\"fill:#dd8452;stroke-width:2;stroke:rgb(255,255,255)\"/><rect x=\"110\" y=\"0\" width=\"55\" height=\"55\" style=\"fill:#55a868;stroke-width:2;stroke:rgb(255,255,255)\"/><rect x=\"165\" y=\"0\" width=\"55\" height=\"55\" style=\"fill:#c44e52;stroke-width:2;stroke:rgb(255,255,255)\"/><rect x=\"220\" y=\"0\" width=\"55\" height=\"55\" style=\"fill:#8172b3;stroke-width:2;stroke:rgb(255,255,255)\"/><rect x=\"275\" y=\"0\" width=\"55\" height=\"55\" style=\"fill:#937860;stroke-width:2;stroke:rgb(255,255,255)\"/><rect x=\"330\" y=\"0\" width=\"55\" height=\"55\" style=\"fill:#da8bc3;stroke-width:2;stroke:rgb(255,255,255)\"/><rect x=\"385\" y=\"0\" width=\"55\" height=\"55\" style=\"fill:#8c8c8c;stroke-width:2;stroke:rgb(255,255,255)\"/><rect x=\"440\" y=\"0\" width=\"55\" height=\"55\" style=\"fill:#ccb974;stroke-width:2;stroke:rgb(255,255,255)\"/><rect x=\"495\" y=\"0\" width=\"55\" height=\"55\" style=\"fill:#64b5cd;stroke-width:2;stroke:rgb(255,255,255)\"/></svg>"
            ],
            "text/plain": [
              "[(0.2980392156862745, 0.4470588235294118, 0.6901960784313725),\n",
              " (0.8666666666666667, 0.5176470588235295, 0.3215686274509804),\n",
              " (0.3333333333333333, 0.6588235294117647, 0.40784313725490196),\n",
              " (0.7686274509803922, 0.3058823529411765, 0.3215686274509804),\n",
              " (0.5058823529411764, 0.4470588235294118, 0.7019607843137254),\n",
              " (0.5764705882352941, 0.47058823529411764, 0.3764705882352941),\n",
              " (0.8549019607843137, 0.5450980392156862, 0.7647058823529411),\n",
              " (0.5490196078431373, 0.5490196078431373, 0.5490196078431373),\n",
              " (0.8, 0.7254901960784313, 0.4549019607843137),\n",
              " (0.39215686274509803, 0.7098039215686275, 0.803921568627451)]"
            ]
          },
          "metadata": {},
          "execution_count": 94
        }
      ]
    },
    {
      "cell_type": "code",
      "source": [
        ""
      ],
      "metadata": {
        "id": "dNzcMthlNYFo"
      },
      "execution_count": null,
      "outputs": []
    },
    {
      "cell_type": "code",
      "execution_count": null,
      "metadata": {
        "colab": {
          "base_uri": "https://localhost:8080/",
          "height": 285
        },
        "id": "XrQemYapzBiO",
        "outputId": "2ed41770-4786-441c-ae0c-2fabe6e2b6d0"
      },
      "outputs": [
        {
          "output_type": "execute_result",
          "data": {
            "text/plain": [
              "<matplotlib.collections.PathCollection at 0x7fcbdc1e7e10>"
            ]
          },
          "metadata": {},
          "execution_count": 64
        },
        {
          "output_type": "display_data",
          "data": {
            "image/png": "[encoded data removed]",
            "text/plain": [
              "<Figure size 432x288 with 1 Axes>"
            ]
          },
          "metadata": {}
        }
      ],
      "source": [
        "from sklearn.cluster import AffinityPropagation\n",
        "from sklearn import metrics\n",
        "from sklearn.datasets import make_blobs\n",
        "\n",
        "# #############################################################################\n",
        "# Generate sample data\n",
        "centers = [[1, 1], [-2, -0.5],[-0.2, +1]]\n",
        "X, labels_true = make_blobs(\n",
        "    n_samples=2000, centers=centers, cluster_std=0.5, random_state=0\n",
        ")\n",
        "\n",
        "\n",
        "# #############################################################################\n",
        "# Plot result\n",
        "import matplotlib.pyplot as plt\n",
        "import matplotlib.pyplot as plt\n",
        "import matplotlib.colors\n",
        "\n",
        "cmap = matplotlib.colors.LinearSegmentedColormap.from_list(\"\", [\"red\",\"black\",\"blue\"])\n",
        "plt.scatter(X[:,0], X[:,1],marker='.', c=labels_true,cmap=cmap)\n"
      ]
    },
    {
      "cell_type": "code",
      "source": [
        "cs=election_palette=sns.color_palette('deep', 8)"
      ],
      "metadata": {
        "id": "CFabFrYs4Wei"
      },
      "execution_count": null,
      "outputs": []
    },
    {
      "cell_type": "code",
      "source": [
        "cs"
      ],
      "metadata": {
        "colab": {
          "base_uri": "https://localhost:8080/",
          "height": 76
        },
        "id": "BMyG6Gv0IlBb",
        "outputId": "9546079b-37f4-4edd-ceda-e8f387016eed"
      },
      "execution_count": null,
      "outputs": [
        {
          "output_type": "execute_result",
          "data": {
            "text/html": [
              "<svg  width=\"440\" height=\"55\"><rect x=\"0\" y=\"0\" width=\"55\" height=\"55\" style=\"fill:#4c72b0;stroke-width:2;stroke:rgb(255,255,255)\"/><rect x=\"55\" y=\"0\" width=\"55\" height=\"55\" style=\"fill:#dd8452;stroke-width:2;stroke:rgb(255,255,255)\"/><rect x=\"110\" y=\"0\" width=\"55\" height=\"55\" style=\"fill:#55a868;stroke-width:2;stroke:rgb(255,255,255)\"/><rect x=\"165\" y=\"0\" width=\"55\" height=\"55\" style=\"fill:#c44e52;stroke-width:2;stroke:rgb(255,255,255)\"/><rect x=\"220\" y=\"0\" width=\"55\" height=\"55\" style=\"fill:#8172b3;stroke-width:2;stroke:rgb(255,255,255)\"/><rect x=\"275\" y=\"0\" width=\"55\" height=\"55\" style=\"fill:#937860;stroke-width:2;stroke:rgb(255,255,255)\"/><rect x=\"330\" y=\"0\" width=\"55\" height=\"55\" style=\"fill:#da8bc3;stroke-width:2;stroke:rgb(255,255,255)\"/><rect x=\"385\" y=\"0\" width=\"55\" height=\"55\" style=\"fill:#8c8c8c;stroke-width:2;stroke:rgb(255,255,255)\"/></svg>"
            ],
            "text/plain": [
              "[(0.2980392156862745, 0.4470588235294118, 0.6901960784313725),\n",
              " (0.8666666666666667, 0.5176470588235295, 0.3215686274509804),\n",
              " (0.3333333333333333, 0.6588235294117647, 0.40784313725490196),\n",
              " (0.7686274509803922, 0.3058823529411765, 0.3215686274509804),\n",
              " (0.5058823529411764, 0.4470588235294118, 0.7019607843137254),\n",
              " (0.5764705882352941, 0.47058823529411764, 0.3764705882352941),\n",
              " (0.8549019607843137, 0.5450980392156862, 0.7647058823529411),\n",
              " (0.5490196078431373, 0.5490196078431373, 0.5490196078431373)]"
            ]
          },
          "metadata": {},
          "execution_count": 36
        }
      ]
    },
    {
      "cell_type": "code",
      "source": [
        ""
      ],
      "metadata": {
        "id": "98eowU4bAXvM"
      },
      "execution_count": null,
      "outputs": []
    },
    {
      "cell_type": "code",
      "execution_count": null,
      "metadata": {
        "colab": {
          "base_uri": "https://localhost:8080/"
        },
        "id": "qVn74gld0W3q",
        "outputId": "a78e48fb-f63b-4870-a1b7-bc4f2d9e1623"
      },
      "outputs": [
        {
          "output_type": "stream",
          "name": "stdout",
          "text": [
            " afinity matrix done\n"
          ]
        }
      ],
      "source": [
        "knn= 80\n",
        "decay= 1\n",
        "t=10\n",
        "distance_matrix_dist =pdist(X)\n",
        "distance_matrix_u_pca = (squareform(distance_matrix_dist))\n",
        "n,m =distance_matrix_u_pca.shape\n",
        "\n",
        "E = np.zeros((m,m))\n",
        "knn_dst = np.sort(distance_matrix_u_pca, axis=1)\n",
        "    \n",
        "epsilon = knn_dst[:,knn]\n",
        "    \n",
        "    \n",
        "pdx_scale = (distance_matrix_u_pca / epsilon).T \n",
        "    \n",
        "E = np.exp(-1 * ( pdx_scale ** decay))\n",
        "    \n",
        "print(' afinity matrix done')\n",
        "    \n",
        "A = (E + E.T)\n",
        "    \n",
        "diff_deg = np.diag(np.sum(A,0))\n",
        "    \n",
        "diff_op = np.dot(np.diag(np.diag(diff_deg)**(-1)),A)\n",
        "    \n",
        "\n",
        "new_matrix_blobs=  np.linalg.matrix_power(diff_op, t)"
      ]
    },
    {
      "cell_type": "code",
      "execution_count": null,
      "metadata": {
        "colab": {
          "base_uri": "https://localhost:8080/"
        },
        "id": "_7Pq206W1RqN",
        "outputId": "93b3b813-e46e-41a5-981c-767d005dce84"
      },
      "outputs": [
        {
          "output_type": "execute_result",
          "data": {
            "text/plain": [
              "array([[0.        , 0.02003058, 0.02607945, ..., 0.00073815, 0.00137217,\n",
              "        0.02535399],\n",
              "       [0.02003058, 0.        , 0.00612865, ..., 0.01968513, 0.02129523,\n",
              "        0.0054037 ],\n",
              "       [0.02607945, 0.00612865, 0.        , ..., 0.02575988, 0.02731891,\n",
              "        0.0007277 ],\n",
              "       ...,\n",
              "       [0.00073815, 0.01968513, 0.02575988, ..., 0.        , 0.00200812,\n",
              "        0.02503331],\n",
              "       [0.00137217, 0.02129523, 0.02731891, ..., 0.00200812, 0.        ,\n",
              "        0.02659478],\n",
              "       [0.02535399, 0.0054037 , 0.0007277 , ..., 0.02503331, 0.02659478,\n",
              "        0.        ]])"
            ]
          },
          "metadata": {},
          "execution_count": 31
        }
      ],
      "source": [
        "distance_matrix_dist_blobs =squareform(pdist(new_matrix_blobs))\n",
        "distance_matrix_dist_blobs"
      ]
    },
    {
      "cell_type": "code",
      "execution_count": null,
      "metadata": {
        "id": "XVKx-Pxe1LdY"
      },
      "outputs": [],
      "source": [
        "MDS_PLOT = sgd(distance_matrix_dist_blobs, n_components=2, random_state=None, init=None,num_dimensions=2)"
      ]
    },
    {
      "cell_type": "code",
      "execution_count": null,
      "metadata": {
        "colab": {
          "base_uri": "https://localhost:8080/",
          "height": 287
        },
        "id": "cyIGDTk11now",
        "outputId": "78ea4315-0bc7-47b5-d364-2966f3e38e7a"
      },
      "outputs": [
        {
          "output_type": "execute_result",
          "data": {
            "text/plain": [
              "<matplotlib.collections.PathCollection at 0x7fcbaefd3290>"
            ]
          },
          "metadata": {},
          "execution_count": 33
        },
        {
          "output_type": "display_data",
          "data": {
            "image/png": "[encoded data removed]",
            "text/plain": [
              "<Figure size 432x288 with 1 Axes>"
            ]
          },
          "metadata": {}
        }
      ],
      "source": [
        "plt.scatter(MDS_PLOT[:,0], MDS_PLOT[:,1],marker='.', c=labels_true,cmap=cmap)\n"
      ]
    }
  ],
  "metadata": {
    "colab": {
      "name": "figura alternativa 2 marzo.ipynb",
      "provenance": [],
      "collapsed_sections": []
    },
    "kernelspec": {
      "display_name": "Python 3",
      "name": "python3"
    },
    "language_info": {
      "name": "python"
    },
    "widgets": {
      "application/vnd.jupyter.widget-state+json": {
        "2410e808529042d5adb84b8a1e4f0aad": {
          "model_module": "@jupyter-widgets/controls",
          "model_name": "HBoxModel",
          "model_module_version": "1.5.0",
          "state": {
            "_view_name": "HBoxView",
            "_dom_classes": [],
            "_model_name": "HBoxModel",
            "_view_module": "@jupyter-widgets/controls",
            "_model_module_version": "1.5.0",
            "_view_count": null,
            "_view_module_version": "1.5.0",
            "box_style": "",
            "layout": "IPY_MODEL_d2b88ae56ded405890bb8649f8bbc662",
            "_model_module": "@jupyter-widgets/controls",
            "children": [
              "IPY_MODEL_370f1651743b47f3a7489ec4f71eb77b",
              "IPY_MODEL_a6d2526babaf4ecc89a56859f6ddfa09",
              "IPY_MODEL_feaf1b6eb3d44ebd80337c88044b84f1"
            ]
          }
        },
        "d2b88ae56ded405890bb8649f8bbc662": {
          "model_module": "@jupyter-widgets/base",
          "model_name": "LayoutModel",
          "model_module_version": "1.2.0",
          "state": {
            "_view_name": "LayoutView",
            "grid_template_rows": null,
            "right": null,
            "justify_content": null,
            "_view_module": "@jupyter-widgets/base",
            "overflow": null,
            "_model_module_version": "1.2.0",
            "_view_count": null,
            "flex_flow": null,
            "width": null,
            "min_width": null,
            "border": null,
            "align_items": null,
            "bottom": null,
            "_model_module": "@jupyter-widgets/base",
            "top": null,
            "grid_column": null,
            "overflow_y": null,
            "overflow_x": null,
            "grid_auto_flow": null,
            "grid_area": null,
            "grid_template_columns": null,
            "flex": null,
            "_model_name": "LayoutModel",
            "justify_items": null,
            "grid_row": null,
            "max_height": null,
            "align_content": null,
            "visibility": null,
            "align_self": null,
            "height": null,
            "min_height": null,
            "padding": null,
            "grid_auto_rows": null,
            "grid_gap": null,
            "max_width": null,
            "order": null,
            "_view_module_version": "1.2.0",
            "grid_template_areas": null,
            "object_position": null,
            "object_fit": null,
            "grid_auto_columns": null,
            "margin": null,
            "display": null,
            "left": null
          }
        },
        "370f1651743b47f3a7489ec4f71eb77b": {
          "model_module": "@jupyter-widgets/controls",
          "model_name": "HTMLModel",
          "model_module_version": "1.5.0",
          "state": {
            "_view_name": "HTMLView",
            "style": "IPY_MODEL_1d08d39964cf4b34a5881870723bf94d",
            "_dom_classes": [],
            "description": "",
            "_model_name": "HTMLModel",
            "placeholder": "​",
            "_view_module": "@jupyter-widgets/controls",
            "_model_module_version": "1.5.0",
            "value": "Epochs completed: 100%| ",
            "_view_count": null,
            "_view_module_version": "1.5.0",
            "description_tooltip": null,
            "_model_module": "@jupyter-widgets/controls",
            "layout": "IPY_MODEL_5ed9cba1003e484a8624dff8d4495367"
          }
        },
        "a6d2526babaf4ecc89a56859f6ddfa09": {
          "model_module": "@jupyter-widgets/controls",
          "model_name": "FloatProgressModel",
          "model_module_version": "1.5.0",
          "state": {
            "_view_name": "ProgressView",
            "style": "IPY_MODEL_d293af8286cf49fa91541203b6e12fd6",
            "_dom_classes": [],
            "description": "",
            "_model_name": "FloatProgressModel",
            "bar_style": "success",
            "max": 10000,
            "_view_module": "@jupyter-widgets/controls",
            "_model_module_version": "1.5.0",
            "value": 10000,
            "_view_count": null,
            "_view_module_version": "1.5.0",
            "orientation": "horizontal",
            "min": 0,
            "description_tooltip": null,
            "_model_module": "@jupyter-widgets/controls",
            "layout": "IPY_MODEL_9bc0f1637106446b93ea7156636ef9c2"
          }
        },
        "feaf1b6eb3d44ebd80337c88044b84f1": {
          "model_module": "@jupyter-widgets/controls",
          "model_name": "HTMLModel",
          "model_module_version": "1.5.0",
          "state": {
            "_view_name": "HTMLView",
            "style": "IPY_MODEL_4d68180a9b8741d1aad0ae7a92226885",
            "_dom_classes": [],
            "description": "",
            "_model_name": "HTMLModel",
            "placeholder": "​",
            "_view_module": "@jupyter-widgets/controls",
            "_model_module_version": "1.5.0",
            "value": " 10000/10000 [07:06]",
            "_view_count": null,
            "_view_module_version": "1.5.0",
            "description_tooltip": null,
            "_model_module": "@jupyter-widgets/controls",
            "layout": "IPY_MODEL_433061b1180b4e4db688e17186406e43"
          }
        },
        "1d08d39964cf4b34a5881870723bf94d": {
          "model_module": "@jupyter-widgets/controls",
          "model_name": "DescriptionStyleModel",
          "model_module_version": "1.5.0",
          "state": {
            "_view_name": "StyleView",
            "_model_name": "DescriptionStyleModel",
            "description_width": "",
            "_view_module": "@jupyter-widgets/base",
            "_model_module_version": "1.5.0",
            "_view_count": null,
            "_view_module_version": "1.2.0",
            "_model_module": "@jupyter-widgets/controls"
          }
        },
        "5ed9cba1003e484a8624dff8d4495367": {
          "model_module": "@jupyter-widgets/base",
          "model_name": "LayoutModel",
          "model_module_version": "1.2.0",
          "state": {
            "_view_name": "LayoutView",
            "grid_template_rows": null,
            "right": null,
            "justify_content": null,
            "_view_module": "@jupyter-widgets/base",
            "overflow": null,
            "_model_module_version": "1.2.0",
            "_view_count": null,
            "flex_flow": null,
            "width": null,
            "min_width": null,
            "border": null,
            "align_items": null,
            "bottom": null,
            "_model_module": "@jupyter-widgets/base",
            "top": null,
            "grid_column": null,
            "overflow_y": null,
            "overflow_x": null,
            "grid_auto_flow": null,
            "grid_area": null,
            "grid_template_columns": null,
            "flex": null,
            "_model_name": "LayoutModel",
            "justify_items": null,
            "grid_row": null,
            "max_height": null,
            "align_content": null,
            "visibility": null,
            "align_self": null,
            "height": null,
            "min_height": null,
            "padding": null,
            "grid_auto_rows": null,
            "grid_gap": null,
            "max_width": null,
            "order": null,
            "_view_module_version": "1.2.0",
            "grid_template_areas": null,
            "object_position": null,
            "object_fit": null,
            "grid_auto_columns": null,
            "margin": null,
            "display": null,
            "left": null
          }
        },
        "d293af8286cf49fa91541203b6e12fd6": {
          "model_module": "@jupyter-widgets/controls",
          "model_name": "ProgressStyleModel",
          "model_module_version": "1.5.0",
          "state": {
            "_view_name": "StyleView",
            "_model_name": "ProgressStyleModel",
            "description_width": "",
            "_view_module": "@jupyter-widgets/base",
            "_model_module_version": "1.5.0",
            "_view_count": null,
            "_view_module_version": "1.2.0",
            "bar_color": null,
            "_model_module": "@jupyter-widgets/controls"
          }
        },
        "9bc0f1637106446b93ea7156636ef9c2": {
          "model_module": "@jupyter-widgets/base",
          "model_name": "LayoutModel",
          "model_module_version": "1.2.0",
          "state": {
            "_view_name": "LayoutView",
            "grid_template_rows": null,
            "right": null,
            "justify_content": null,
            "_view_module": "@jupyter-widgets/base",
            "overflow": null,
            "_model_module_version": "1.2.0",
            "_view_count": null,
            "flex_flow": null,
            "width": null,
            "min_width": null,
            "border": null,
            "align_items": null,
            "bottom": null,
            "_model_module": "@jupyter-widgets/base",
            "top": null,
            "grid_column": null,
            "overflow_y": null,
            "overflow_x": null,
            "grid_auto_flow": null,
            "grid_area": null,
            "grid_template_columns": null,
            "flex": null,
            "_model_name": "LayoutModel",
            "justify_items": null,
            "grid_row": null,
            "max_height": null,
            "align_content": null,
            "visibility": null,
            "align_self": null,
            "height": null,
            "min_height": null,
            "padding": null,
            "grid_auto_rows": null,
            "grid_gap": null,
            "max_width": null,
            "order": null,
            "_view_module_version": "1.2.0",
            "grid_template_areas": null,
            "object_position": null,
            "object_fit": null,
            "grid_auto_columns": null,
            "margin": null,
            "display": null,
            "left": null
          }
        },
        "4d68180a9b8741d1aad0ae7a92226885": {
          "model_module": "@jupyter-widgets/controls",
          "model_name": "DescriptionStyleModel",
          "model_module_version": "1.5.0",
          "state": {
            "_view_name": "StyleView",
            "_model_name": "DescriptionStyleModel",
            "description_width": "",
            "_view_module": "@jupyter-widgets/base",
            "_model_module_version": "1.5.0",
            "_view_count": null,
            "_view_module_version": "1.2.0",
            "_model_module": "@jupyter-widgets/controls"
          }
        },
        "433061b1180b4e4db688e17186406e43": {
          "model_module": "@jupyter-widgets/base",
          "model_name": "LayoutModel",
          "model_module_version": "1.2.0",
          "state": {
            "_view_name": "LayoutView",
            "grid_template_rows": null,
            "right": null,
            "justify_content": null,
            "_view_module": "@jupyter-widgets/base",
            "overflow": null,
            "_model_module_version": "1.2.0",
            "_view_count": null,
            "flex_flow": null,
            "width": null,
            "min_width": null,
            "border": null,
            "align_items": null,
            "bottom": null,
            "_model_module": "@jupyter-widgets/base",
            "top": null,
            "grid_column": null,
            "overflow_y": null,
            "overflow_x": null,
            "grid_auto_flow": null,
            "grid_area": null,
            "grid_template_columns": null,
            "flex": null,
            "_model_name": "LayoutModel",
            "justify_items": null,
            "grid_row": null,
            "max_height": null,
            "align_content": null,
            "visibility": null,
            "align_self": null,
            "height": null,
            "min_height": null,
            "padding": null,
            "grid_auto_rows": null,
            "grid_gap": null,
            "max_width": null,
            "order": null,
            "_view_module_version": "1.2.0",
            "grid_template_areas": null,
            "object_position": null,
            "object_fit": null,
            "grid_auto_columns": null,
            "margin": null,
            "display": null,
            "left": null
          }
        }
      }
    }
  },
  "nbformat": 4,
  "nbformat_minor": 0
}
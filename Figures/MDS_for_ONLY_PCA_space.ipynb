{
  "cells": [
    {
      "cell_type": "markdown",
      "source": [
        "#**Import and install dependencies on colab**"
      ],
      "metadata": {
        "id": "VEMHT5uZSCA6"
      }
    },
    {
      "cell_type": "code",
      "execution_count": 29,
      "metadata": {
        "id": "sqHys-LprZQ5",
        "colab": {
          "base_uri": "https://localhost:8080/"
        },
        "outputId": "795e3f73-e941-47d4-d84d-5222e21833ac"
      },
      "outputs": [
        {
          "output_type": "stream",
          "name": "stdout",
          "text": [
            "Looking in indexes: https://pypi.org/simple, https://us-python.pkg.dev/colab-wheels/public/simple/\n",
            "Requirement already satisfied: umap-learn in /usr/local/lib/python3.7/dist-packages (0.5.3)\n",
            "Requirement already satisfied: numba>=0.49 in /usr/local/lib/python3.7/dist-packages (from umap-learn) (0.56.4)\n",
            "Requirement already satisfied: scikit-learn>=0.22 in /usr/local/lib/python3.7/dist-packages (from umap-learn) (1.0.2)\n",
            "Requirement already satisfied: numpy>=1.17 in /usr/local/lib/python3.7/dist-packages (from umap-learn) (1.21.6)\n",
            "Requirement already satisfied: pynndescent>=0.5 in /usr/local/lib/python3.7/dist-packages (from umap-learn) (0.5.8)\n",
            "Requirement already satisfied: tqdm in /usr/local/lib/python3.7/dist-packages (from umap-learn) (4.64.1)\n",
            "Requirement already satisfied: scipy>=1.0 in /usr/local/lib/python3.7/dist-packages (from umap-learn) (1.7.3)\n",
            "Requirement already satisfied: importlib-metadata in /usr/local/lib/python3.7/dist-packages (from numba>=0.49->umap-learn) (4.13.0)\n",
            "Requirement already satisfied: setuptools in /usr/local/lib/python3.7/dist-packages (from numba>=0.49->umap-learn) (57.4.0)\n",
            "Requirement already satisfied: llvmlite<0.40,>=0.39.0dev0 in /usr/local/lib/python3.7/dist-packages (from numba>=0.49->umap-learn) (0.39.1)\n",
            "Requirement already satisfied: joblib>=0.11 in /usr/local/lib/python3.7/dist-packages (from pynndescent>=0.5->umap-learn) (1.2.0)\n",
            "Requirement already satisfied: typing-extensions>=3.6.4 in /usr/local/lib/python3.7/dist-packages (from importlib-metadata->numba>=0.49->umap-learn) (4.1.1)\n",
            "Requirement already satisfied: zipp>=0.5 in /usr/local/lib/python3.7/dist-packages (from importlib-metadata->numba>=0.49->umap-learn) (3.10.0)\n",
            "Requirement already satisfied: threadpoolctl>=2.0.0 in /usr/local/lib/python3.7/dist-packages (from scikit-learn>=0.22->umap-learn) (3.1.0)\n",
            "Looking in indexes: https://pypi.org/simple, https://us-python.pkg.dev/colab-wheels/public/simple/\n",
            "Requirement already satisfied: phate in /usr/local/lib/python3.7/dist-packages (1.0.9)\n",
            "Requirement already satisfied: scprep in /usr/local/lib/python3.7/dist-packages (1.2.1)\n",
            "Requirement already satisfied: s_gd2 in /usr/local/lib/python3.7/dist-packages (1.8.1)\n",
            "Requirement already satisfied: scikit-learn>=0.20.0 in /usr/local/lib/python3.7/dist-packages (from phate) (1.0.2)\n",
            "Requirement already satisfied: numpy>=1.16.0 in /usr/local/lib/python3.7/dist-packages (from phate) (1.21.6)\n",
            "Requirement already satisfied: matplotlib>=3.0 in /usr/local/lib/python3.7/dist-packages (from phate) (3.2.2)\n",
            "Requirement already satisfied: tasklogger>=1.0 in /usr/local/lib/python3.7/dist-packages (from phate) (1.2.0)\n",
            "Requirement already satisfied: scipy>=1.1.0 in /usr/local/lib/python3.7/dist-packages (from phate) (1.7.3)\n",
            "Requirement already satisfied: Deprecated in /usr/local/lib/python3.7/dist-packages (from phate) (1.2.13)\n",
            "Requirement already satisfied: future in /usr/local/lib/python3.7/dist-packages (from phate) (0.16.0)\n",
            "Requirement already satisfied: graphtools>=1.3.1 in /usr/local/lib/python3.7/dist-packages (from phate) (1.5.2)\n",
            "Requirement already satisfied: decorator>=4.3.0 in /usr/local/lib/python3.7/dist-packages (from scprep) (4.4.2)\n",
            "Requirement already satisfied: packaging in /usr/local/lib/python3.7/dist-packages (from scprep) (21.3)\n",
            "Requirement already satisfied: pandas<1.4,>=0.25 in /usr/local/lib/python3.7/dist-packages (from scprep) (1.3.5)\n",
            "Requirement already satisfied: pygsp>=0.5.1 in /usr/local/lib/python3.7/dist-packages (from graphtools>=1.3.1->phate) (0.5.1)\n",
            "Requirement already satisfied: python-dateutil>=2.1 in /usr/local/lib/python3.7/dist-packages (from matplotlib>=3.0->phate) (2.8.2)\n",
            "Requirement already satisfied: kiwisolver>=1.0.1 in /usr/local/lib/python3.7/dist-packages (from matplotlib>=3.0->phate) (1.4.4)\n",
            "Requirement already satisfied: pyparsing!=2.0.4,!=2.1.2,!=2.1.6,>=2.0.1 in /usr/local/lib/python3.7/dist-packages (from matplotlib>=3.0->phate) (3.0.9)\n",
            "Requirement already satisfied: cycler>=0.10 in /usr/local/lib/python3.7/dist-packages (from matplotlib>=3.0->phate) (0.11.0)\n",
            "Requirement already satisfied: typing-extensions in /usr/local/lib/python3.7/dist-packages (from kiwisolver>=1.0.1->matplotlib>=3.0->phate) (4.1.1)\n",
            "Requirement already satisfied: pytz>=2017.3 in /usr/local/lib/python3.7/dist-packages (from pandas<1.4,>=0.25->scprep) (2022.6)\n",
            "Requirement already satisfied: six>=1.5 in /usr/local/lib/python3.7/dist-packages (from python-dateutil>=2.1->matplotlib>=3.0->phate) (1.15.0)\n",
            "Requirement already satisfied: threadpoolctl>=2.0.0 in /usr/local/lib/python3.7/dist-packages (from scikit-learn>=0.20.0->phate) (3.1.0)\n",
            "Requirement already satisfied: joblib>=0.11 in /usr/local/lib/python3.7/dist-packages (from scikit-learn>=0.20.0->phate) (1.2.0)\n",
            "Requirement already satisfied: wrapt<2,>=1.10 in /usr/local/lib/python3.7/dist-packages (from Deprecated->phate) (1.14.1)\n"
          ]
        }
      ],
      "source": [
        "!pip install umap-learn\n",
        "!pip install phate scprep s_gd2\n",
        "%matplotlib inline\n",
        "import numpy as np\n",
        "import matplotlib.pyplot as plt\n",
        "import seaborn as sns; sns.set()\n",
        "import pandas as pd\n",
        "import numpy as np\n",
        "import plotly.express as px\n",
        "from sklearn import decomposition\n",
        "cmap='BuGn_r'\n",
        "lol= ['#a61551','#d9424d','#f67b4a','#febf6f','#feefa4','#f2f9a9','#bee5a0','#75c8a5','#388eba','#5e50a2']    \n"
      ]
    },
    {
      "cell_type": "markdown",
      "metadata": {
        "id": "vEEraPpotbYG"
      },
      "source": [
        "MNIST DATA SET"
      ]
    },
    {
      "cell_type": "code",
      "execution_count": 30,
      "metadata": {
        "id": "374kDeHttay3"
      },
      "outputs": [],
      "source": [
        "import matplotlib.pyplot as plt\n",
        "import seaborn as sns\n",
        "from sklearn.datasets import fetch_openml\n",
        "from sklearn.model_selection import train_test_split\n",
        "\n",
        "import umap\n",
        "\n",
        "sns.set(context=\"paper\", style=\"white\")\n",
        "\n",
        "mnist = fetch_openml(\"mnist_784\", version=1)\n",
        "X_train, X_test, y_train, y_test = train_test_split(\n",
        "    mnist.data, mnist.target, stratify=mnist.target, random_state=42,train_size=0.95\n",
        ")"
      ]
    },
    {
      "cell_type": "code",
      "source": [
        "\n",
        "sns.set(context=\"paper\", style=\"white\")"
      ],
      "metadata": {
        "id": "xkT9xF9LkbxT"
      },
      "execution_count": 31,
      "outputs": []
    },
    {
      "cell_type": "markdown",
      "metadata": {
        "id": "_Hcp8yoUuqkb"
      },
      "source": [
        "SGD ALGORITHM"
      ]
    },
    {
      "cell_type": "code",
      "execution_count": 32,
      "metadata": {
        "id": "lwlrvhMGu9rh"
      },
      "outputs": [],
      "source": [
        "import s_gd2\n",
        "from scipy.spatial.distance import pdist, squareform"
      ]
    },
    {
      "cell_type": "code",
      "execution_count": 33,
      "metadata": {
        "id": "X8krQyO8uqDG"
      },
      "outputs": [],
      "source": [
        "def sgd(D, n_components=2, random_state=None, init=None,num_dimensions=None):\n",
        "    \"\"\"Metric MDS using stochastic gradient descent\n",
        "    Parameters\n",
        "    ----------\n",
        "    D : array-like, shape=[n_samples, n_samples]\n",
        "        pairwise distances\n",
        "    n_components : int, optional (default: 2)\n",
        "        number of dimensions in which to embed `D`\n",
        "    random_state : int or None, optional (default: None)\n",
        "        numpy random state\n",
        "    init : array-like or None\n",
        "        Initialization algorithm or state to use for MMDS\n",
        "    Returns\n",
        "    -------\n",
        "    Y : array-like, embedded data [n_sample, ndim]\n",
        "    \"\"\"\n",
        "\n",
        "    N = D.shape[0]\n",
        "    D = squareform(D)\n",
        "    # Metric MDS from s_gd2\n",
        "    Y = s_gd2.mds_direct(N, D, init=init, random_seed=random_state,num_dimensions=num_dimensions)\n",
        "    return Y"
      ]
    },
    {
      "cell_type": "markdown",
      "metadata": {
        "id": "dIftZDGuuGek"
      },
      "source": [
        "PCA"
      ]
    },
    {
      "cell_type": "code",
      "execution_count": 34,
      "metadata": {
        "id": "Y0d6L_YyuH8s",
        "colab": {
          "base_uri": "https://localhost:8080/"
        },
        "outputId": "2ec5c1bb-e16e-49a5-bd3d-eb433cd63125"
      },
      "outputs": [
        {
          "output_type": "stream",
          "name": "stdout",
          "text": [
            "(3500, 500)\n"
          ]
        }
      ],
      "source": [
        "from sklearn import decomposition\n",
        "#Dimensionality reduction using PCA, denoise and better capture of the global structure \n",
        "#of the data for UMAP proyection\n",
        "pca = decomposition.PCA(n_components=500,random_state=1)\n",
        "pca.fit(X_test)\n",
        "X = pca.transform(X_test)\n",
        "print(X.shape)"
      ]
    },
    {
      "cell_type": "markdown",
      "metadata": {
        "id": "Sr7VMdME55PZ"
      },
      "source": [
        "VISUALAZING PICTURES"
      ]
    },
    {
      "cell_type": "code",
      "execution_count": 35,
      "metadata": {
        "id": "1VwgqXCV55jv"
      },
      "outputs": [],
      "source": [
        "from matplotlib import offsetbox\n",
        "\n",
        "def plot_components(data, proj, images=None, ax=None,\n",
        "                    thumb_frac=0.01, cmap='gray'):\n",
        "    ax = ax or plt.gca()\n",
        "    \n",
        "    proj = proj\n",
        "    ax.plot(proj[:, 0], proj[:, 1], '.k')\n",
        "    \n",
        "    if images is not None:\n",
        "        min_dist_2 = (thumb_frac * max(proj.max(0) - proj.min(0))) ** 5\n",
        "        shown_images = np.array([2 * proj.max(0)])\n",
        "        for i in range(data.shape[0]):\n",
        "            dist = np.sum((proj[i] - shown_images) ** 2, 1)\n",
        "            if np.min(dist) < min_dist_2:\n",
        "                # don't show points that are too close\n",
        "                continue\n",
        "            shown_images = np.vstack([shown_images, proj[i]])\n",
        "            imagebox = offsetbox.AnnotationBbox(\n",
        "                offsetbox.OffsetImage(images[i], cmap=cmap),\n",
        "                                      proj[i])\n",
        "            ax.add_artist(imagebox)"
      ]
    },
    {
      "cell_type": "markdown",
      "metadata": {
        "id": "R1SdfFwgtMeo"
      },
      "source": [
        "#**PCA manifold** "
      ]
    },
    {
      "cell_type": "markdown",
      "source": [
        "#**Real data**"
      ],
      "metadata": {
        "id": "9ZZ50hc0Z8Vk"
      }
    },
    {
      "cell_type": "code",
      "source": [
        "import pandas as pd\n",
        "import numpy as np\n",
        "import os \n",
        "#count matrix\n",
        "!gdown --id 10AUDnRh7mitOBOQzo0DLLict_EnlpbtG\n",
        "!gdown --id 17h8H0axCYGNE5XEkupb6LGNQUFx06Pvd"
      ],
      "metadata": {
        "colab": {
          "base_uri": "https://localhost:8080/"
        },
        "id": "3HciA8feZ_pK",
        "outputId": "6f64cae2-b89a-4ac9-b733-b57434bf1694"
      },
      "execution_count": 36,
      "outputs": [
        {
          "output_type": "stream",
          "name": "stdout",
          "text": [
            "/usr/local/lib/python3.7/dist-packages/gdown/cli.py:131: FutureWarning: Option `--id` was deprecated in version 4.3.1 and will be removed in 5.0. You don't need to pass it anymore to use a file ID.\n",
            "  category=FutureWarning,\n",
            "Downloading...\n",
            "From: https://drive.google.com/uc?id=10AUDnRh7mitOBOQzo0DLLict_EnlpbtG\n",
            "To: /content/expression_matrix.txt\n",
            "100% 126M/126M [00:00<00:00, 148MB/s]\n",
            "/usr/local/lib/python3.7/dist-packages/gdown/cli.py:131: FutureWarning: Option `--id` was deprecated in version 4.3.1 and will be removed in 5.0. You don't need to pass it anymore to use a file ID.\n",
            "  category=FutureWarning,\n",
            "Downloading...\n",
            "From: https://drive.google.com/uc?id=17h8H0axCYGNE5XEkupb6LGNQUFx06Pvd\n",
            "To: /content/clusters.txt\n",
            "100% 52.6k/52.6k [00:00<00:00, 37.8MB/s]\n"
          ]
        }
      ]
    },
    {
      "cell_type": "code",
      "source": [
        "#este funciona\n",
        "data = pd.read_table('expression_matrix.txt')\n",
        "data = data.set_index('Unnamed: 0')\n",
        "data = data.T\n",
        "data"
      ],
      "metadata": {
        "colab": {
          "base_uri": "https://localhost:8080/",
          "height": 505
        },
        "id": "tXfvYlYhZ_md",
        "outputId": "dd0da454-86ea-49ce-a827-9369161f8759"
      },
      "execution_count": 37,
      "outputs": [
        {
          "output_type": "execute_result",
          "data": {
            "text/plain": [
              "Unnamed: 0  0610005C13Rik  0610007C21Rik  0610007L01Rik  0610007N19Rik  \\\n",
              "A01101401             0.0          76.13           0.05            0.0   \n",
              "A01101402             0.0         512.73          10.11            0.0   \n",
              "A01101403             0.0         172.75           0.00            0.0   \n",
              "A01101404             0.0         170.56           0.02            0.0   \n",
              "A01101405             0.0         113.87           0.04            0.0   \n",
              "...                   ...            ...            ...            ...   \n",
              "Z11041427             0.0         106.52           0.00            0.0   \n",
              "Z11041428             0.0         349.73           0.00            0.0   \n",
              "Z11041429             0.0           1.54           1.17            0.0   \n",
              "Z11041430             0.0           0.54           7.65            0.0   \n",
              "Z11041431             0.0         679.19           0.12            0.0   \n",
              "\n",
              "Unnamed: 0  0610007P08Rik  0610007P14Rik  0610007P22Rik  0610008F07Rik  \\\n",
              "A01101401            0.00           0.00           0.00            0.0   \n",
              "A01101402            0.00         146.61           0.00            0.0   \n",
              "A01101403            0.00          23.65           0.00            0.0   \n",
              "A01101404            0.00         117.60           0.00            0.0   \n",
              "A01101405            0.00         180.93           0.00            0.0   \n",
              "...                   ...            ...            ...            ...   \n",
              "Z11041427            0.08         221.36           0.00            0.0   \n",
              "Z11041428            0.00         262.66          88.02            0.0   \n",
              "Z11041429            0.00         219.92           0.00            0.0   \n",
              "Z11041430           43.42         272.64           0.00            0.0   \n",
              "Z11041431            0.00         436.88           0.00            0.0   \n",
              "\n",
              "Unnamed: 0  0610009B14Rik  0610009B22Rik  ...  mt_DQ540229  mt_DQ719271  \\\n",
              "A01101401             0.0           0.09  ...          0.0          0.0   \n",
              "A01101402             0.0           0.00  ...          0.0          0.0   \n",
              "A01101403             0.0          72.72  ...          0.0          0.0   \n",
              "A01101404             0.0         125.81  ...          0.0          0.0   \n",
              "A01101405             0.0           0.10  ...          0.0          0.0   \n",
              "...                   ...            ...  ...          ...          ...   \n",
              "Z11041427             0.0         141.14  ...          0.0          0.0   \n",
              "Z11041428             0.0           0.00  ...          0.0          0.0   \n",
              "Z11041429             0.0          94.38  ...          0.0          0.0   \n",
              "Z11041430             0.0          78.25  ...          0.0          0.0   \n",
              "Z11041431             0.0          20.77  ...          0.0          0.0   \n",
              "\n",
              "Unnamed: 0  mt_DQ719488  mt_DQ725839  mt_EF437370  mt_FR668231  mt_FW313083  \\\n",
              "A01101401           0.0          0.0          0.0          0.0          0.0   \n",
              "A01101402           0.0          0.0          0.0          0.0          0.0   \n",
              "A01101403           0.0          0.0          0.0          0.0          0.0   \n",
              "A01101404           0.0          0.0          0.0          0.0          0.0   \n",
              "A01101405           0.0          0.0          0.0          0.0          0.0   \n",
              "...                 ...          ...          ...          ...          ...   \n",
              "Z11041427           0.0          0.0          0.0          0.0          0.0   \n",
              "Z11041428           0.0          0.0          0.0          0.0          0.0   \n",
              "Z11041429           0.0          0.0          0.0          0.0          0.0   \n",
              "Z11041430           0.0          0.0          0.0          0.0          0.0   \n",
              "Z11041431           0.0          0.0          0.0          0.0          0.0   \n",
              "\n",
              "Unnamed: 0  mt_GU332589  mt_X57779  mt_X57780  \n",
              "A01101401       1401.76     242.94     242.94  \n",
              "A01101402       1397.16     539.54     539.54  \n",
              "A01101403        332.88     341.45     341.45  \n",
              "A01101404       1442.66     260.02     260.02  \n",
              "A01101405        749.68     348.10     348.10  \n",
              "...                 ...        ...        ...  \n",
              "Z11041427       1514.75     433.01     433.01  \n",
              "Z11041428       1949.32     787.32     787.32  \n",
              "Z11041429       1829.42     506.35     506.35  \n",
              "Z11041430       1275.09     709.91     709.91  \n",
              "Z11041431       2078.13     561.88     561.88  \n",
              "\n",
              "[1679 rows x 24057 columns]"
            ],
            "text/html": [
              "\n",
              "  <div id=\"df-7195eeff-f271-469d-a593-b3a7f3d9dae7\">\n",
              "    <div class=\"colab-df-container\">\n",
              "      <div>\n",
              "<style scoped>\n",
              "    .dataframe tbody tr th:only-of-type {\n",
              "        vertical-align: middle;\n",
              "    }\n",
              "\n",
              "    .dataframe tbody tr th {\n",
              "        vertical-align: top;\n",
              "    }\n",
              "\n",
              "    .dataframe thead th {\n",
              "        text-align: right;\n",
              "    }\n",
              "</style>\n",
              "<table border=\"1\" class=\"dataframe\">\n",
              "  <thead>\n",
              "    <tr style=\"text-align: right;\">\n",
              "      <th>Unnamed: 0</th>\n",
              "      <th>0610005C13Rik</th>\n",
              "      <th>0610007C21Rik</th>\n",
              "      <th>0610007L01Rik</th>\n",
              "      <th>0610007N19Rik</th>\n",
              "      <th>0610007P08Rik</th>\n",
              "      <th>0610007P14Rik</th>\n",
              "      <th>0610007P22Rik</th>\n",
              "      <th>0610008F07Rik</th>\n",
              "      <th>0610009B14Rik</th>\n",
              "      <th>0610009B22Rik</th>\n",
              "      <th>...</th>\n",
              "      <th>mt_DQ540229</th>\n",
              "      <th>mt_DQ719271</th>\n",
              "      <th>mt_DQ719488</th>\n",
              "      <th>mt_DQ725839</th>\n",
              "      <th>mt_EF437370</th>\n",
              "      <th>mt_FR668231</th>\n",
              "      <th>mt_FW313083</th>\n",
              "      <th>mt_GU332589</th>\n",
              "      <th>mt_X57779</th>\n",
              "      <th>mt_X57780</th>\n",
              "    </tr>\n",
              "  </thead>\n",
              "  <tbody>\n",
              "    <tr>\n",
              "      <th>A01101401</th>\n",
              "      <td>0.0</td>\n",
              "      <td>76.13</td>\n",
              "      <td>0.05</td>\n",
              "      <td>0.0</td>\n",
              "      <td>0.00</td>\n",
              "      <td>0.00</td>\n",
              "      <td>0.00</td>\n",
              "      <td>0.0</td>\n",
              "      <td>0.0</td>\n",
              "      <td>0.09</td>\n",
              "      <td>...</td>\n",
              "      <td>0.0</td>\n",
              "      <td>0.0</td>\n",
              "      <td>0.0</td>\n",
              "      <td>0.0</td>\n",
              "      <td>0.0</td>\n",
              "      <td>0.0</td>\n",
              "      <td>0.0</td>\n",
              "      <td>1401.76</td>\n",
              "      <td>242.94</td>\n",
              "      <td>242.94</td>\n",
              "    </tr>\n",
              "    <tr>\n",
              "      <th>A01101402</th>\n",
              "      <td>0.0</td>\n",
              "      <td>512.73</td>\n",
              "      <td>10.11</td>\n",
              "      <td>0.0</td>\n",
              "      <td>0.00</td>\n",
              "      <td>146.61</td>\n",
              "      <td>0.00</td>\n",
              "      <td>0.0</td>\n",
              "      <td>0.0</td>\n",
              "      <td>0.00</td>\n",
              "      <td>...</td>\n",
              "      <td>0.0</td>\n",
              "      <td>0.0</td>\n",
              "      <td>0.0</td>\n",
              "      <td>0.0</td>\n",
              "      <td>0.0</td>\n",
              "      <td>0.0</td>\n",
              "      <td>0.0</td>\n",
              "      <td>1397.16</td>\n",
              "      <td>539.54</td>\n",
              "      <td>539.54</td>\n",
              "    </tr>\n",
              "    <tr>\n",
              "      <th>A01101403</th>\n",
              "      <td>0.0</td>\n",
              "      <td>172.75</td>\n",
              "      <td>0.00</td>\n",
              "      <td>0.0</td>\n",
              "      <td>0.00</td>\n",
              "      <td>23.65</td>\n",
              "      <td>0.00</td>\n",
              "      <td>0.0</td>\n",
              "      <td>0.0</td>\n",
              "      <td>72.72</td>\n",
              "      <td>...</td>\n",
              "      <td>0.0</td>\n",
              "      <td>0.0</td>\n",
              "      <td>0.0</td>\n",
              "      <td>0.0</td>\n",
              "      <td>0.0</td>\n",
              "      <td>0.0</td>\n",
              "      <td>0.0</td>\n",
              "      <td>332.88</td>\n",
              "      <td>341.45</td>\n",
              "      <td>341.45</td>\n",
              "    </tr>\n",
              "    <tr>\n",
              "      <th>A01101404</th>\n",
              "      <td>0.0</td>\n",
              "      <td>170.56</td>\n",
              "      <td>0.02</td>\n",
              "      <td>0.0</td>\n",
              "      <td>0.00</td>\n",
              "      <td>117.60</td>\n",
              "      <td>0.00</td>\n",
              "      <td>0.0</td>\n",
              "      <td>0.0</td>\n",
              "      <td>125.81</td>\n",
              "      <td>...</td>\n",
              "      <td>0.0</td>\n",
              "      <td>0.0</td>\n",
              "      <td>0.0</td>\n",
              "      <td>0.0</td>\n",
              "      <td>0.0</td>\n",
              "      <td>0.0</td>\n",
              "      <td>0.0</td>\n",
              "      <td>1442.66</td>\n",
              "      <td>260.02</td>\n",
              "      <td>260.02</td>\n",
              "    </tr>\n",
              "    <tr>\n",
              "      <th>A01101405</th>\n",
              "      <td>0.0</td>\n",
              "      <td>113.87</td>\n",
              "      <td>0.04</td>\n",
              "      <td>0.0</td>\n",
              "      <td>0.00</td>\n",
              "      <td>180.93</td>\n",
              "      <td>0.00</td>\n",
              "      <td>0.0</td>\n",
              "      <td>0.0</td>\n",
              "      <td>0.10</td>\n",
              "      <td>...</td>\n",
              "      <td>0.0</td>\n",
              "      <td>0.0</td>\n",
              "      <td>0.0</td>\n",
              "      <td>0.0</td>\n",
              "      <td>0.0</td>\n",
              "      <td>0.0</td>\n",
              "      <td>0.0</td>\n",
              "      <td>749.68</td>\n",
              "      <td>348.10</td>\n",
              "      <td>348.10</td>\n",
              "    </tr>\n",
              "    <tr>\n",
              "      <th>...</th>\n",
              "      <td>...</td>\n",
              "      <td>...</td>\n",
              "      <td>...</td>\n",
              "      <td>...</td>\n",
              "      <td>...</td>\n",
              "      <td>...</td>\n",
              "      <td>...</td>\n",
              "      <td>...</td>\n",
              "      <td>...</td>\n",
              "      <td>...</td>\n",
              "      <td>...</td>\n",
              "      <td>...</td>\n",
              "      <td>...</td>\n",
              "      <td>...</td>\n",
              "      <td>...</td>\n",
              "      <td>...</td>\n",
              "      <td>...</td>\n",
              "      <td>...</td>\n",
              "      <td>...</td>\n",
              "      <td>...</td>\n",
              "      <td>...</td>\n",
              "    </tr>\n",
              "    <tr>\n",
              "      <th>Z11041427</th>\n",
              "      <td>0.0</td>\n",
              "      <td>106.52</td>\n",
              "      <td>0.00</td>\n",
              "      <td>0.0</td>\n",
              "      <td>0.08</td>\n",
              "      <td>221.36</td>\n",
              "      <td>0.00</td>\n",
              "      <td>0.0</td>\n",
              "      <td>0.0</td>\n",
              "      <td>141.14</td>\n",
              "      <td>...</td>\n",
              "      <td>0.0</td>\n",
              "      <td>0.0</td>\n",
              "      <td>0.0</td>\n",
              "      <td>0.0</td>\n",
              "      <td>0.0</td>\n",
              "      <td>0.0</td>\n",
              "      <td>0.0</td>\n",
              "      <td>1514.75</td>\n",
              "      <td>433.01</td>\n",
              "      <td>433.01</td>\n",
              "    </tr>\n",
              "    <tr>\n",
              "      <th>Z11041428</th>\n",
              "      <td>0.0</td>\n",
              "      <td>349.73</td>\n",
              "      <td>0.00</td>\n",
              "      <td>0.0</td>\n",
              "      <td>0.00</td>\n",
              "      <td>262.66</td>\n",
              "      <td>88.02</td>\n",
              "      <td>0.0</td>\n",
              "      <td>0.0</td>\n",
              "      <td>0.00</td>\n",
              "      <td>...</td>\n",
              "      <td>0.0</td>\n",
              "      <td>0.0</td>\n",
              "      <td>0.0</td>\n",
              "      <td>0.0</td>\n",
              "      <td>0.0</td>\n",
              "      <td>0.0</td>\n",
              "      <td>0.0</td>\n",
              "      <td>1949.32</td>\n",
              "      <td>787.32</td>\n",
              "      <td>787.32</td>\n",
              "    </tr>\n",
              "    <tr>\n",
              "      <th>Z11041429</th>\n",
              "      <td>0.0</td>\n",
              "      <td>1.54</td>\n",
              "      <td>1.17</td>\n",
              "      <td>0.0</td>\n",
              "      <td>0.00</td>\n",
              "      <td>219.92</td>\n",
              "      <td>0.00</td>\n",
              "      <td>0.0</td>\n",
              "      <td>0.0</td>\n",
              "      <td>94.38</td>\n",
              "      <td>...</td>\n",
              "      <td>0.0</td>\n",
              "      <td>0.0</td>\n",
              "      <td>0.0</td>\n",
              "      <td>0.0</td>\n",
              "      <td>0.0</td>\n",
              "      <td>0.0</td>\n",
              "      <td>0.0</td>\n",
              "      <td>1829.42</td>\n",
              "      <td>506.35</td>\n",
              "      <td>506.35</td>\n",
              "    </tr>\n",
              "    <tr>\n",
              "      <th>Z11041430</th>\n",
              "      <td>0.0</td>\n",
              "      <td>0.54</td>\n",
              "      <td>7.65</td>\n",
              "      <td>0.0</td>\n",
              "      <td>43.42</td>\n",
              "      <td>272.64</td>\n",
              "      <td>0.00</td>\n",
              "      <td>0.0</td>\n",
              "      <td>0.0</td>\n",
              "      <td>78.25</td>\n",
              "      <td>...</td>\n",
              "      <td>0.0</td>\n",
              "      <td>0.0</td>\n",
              "      <td>0.0</td>\n",
              "      <td>0.0</td>\n",
              "      <td>0.0</td>\n",
              "      <td>0.0</td>\n",
              "      <td>0.0</td>\n",
              "      <td>1275.09</td>\n",
              "      <td>709.91</td>\n",
              "      <td>709.91</td>\n",
              "    </tr>\n",
              "    <tr>\n",
              "      <th>Z11041431</th>\n",
              "      <td>0.0</td>\n",
              "      <td>679.19</td>\n",
              "      <td>0.12</td>\n",
              "      <td>0.0</td>\n",
              "      <td>0.00</td>\n",
              "      <td>436.88</td>\n",
              "      <td>0.00</td>\n",
              "      <td>0.0</td>\n",
              "      <td>0.0</td>\n",
              "      <td>20.77</td>\n",
              "      <td>...</td>\n",
              "      <td>0.0</td>\n",
              "      <td>0.0</td>\n",
              "      <td>0.0</td>\n",
              "      <td>0.0</td>\n",
              "      <td>0.0</td>\n",
              "      <td>0.0</td>\n",
              "      <td>0.0</td>\n",
              "      <td>2078.13</td>\n",
              "      <td>561.88</td>\n",
              "      <td>561.88</td>\n",
              "    </tr>\n",
              "  </tbody>\n",
              "</table>\n",
              "<p>1679 rows × 24057 columns</p>\n",
              "</div>\n",
              "      <button class=\"colab-df-convert\" onclick=\"convertToInteractive('df-7195eeff-f271-469d-a593-b3a7f3d9dae7')\"\n",
              "              title=\"Convert this dataframe to an interactive table.\"\n",
              "              style=\"display:none;\">\n",
              "        \n",
              "  <svg xmlns=\"http://www.w3.org/2000/svg\" height=\"24px\"viewBox=\"0 0 24 24\"\n",
              "       width=\"24px\">\n",
              "    <path d=\"M0 0h24v24H0V0z\" fill=\"none\"/>\n",
              "    <path d=\"M18.56 5.44l.94 2.06.94-2.06 2.06-.94-2.06-.94-.94-2.06-.94 2.06-2.06.94zm-11 1L8.5 8.5l.94-2.06 2.06-.94-2.06-.94L8.5 2.5l-.94 2.06-2.06.94zm10 10l.94 2.06.94-2.06 2.06-.94-2.06-.94-.94-2.06-.94 2.06-2.06.94z\"/><path d=\"M17.41 7.96l-1.37-1.37c-.4-.4-.92-.59-1.43-.59-.52 0-1.04.2-1.43.59L10.3 9.45l-7.72 7.72c-.78.78-.78 2.05 0 2.83L4 21.41c.39.39.9.59 1.41.59.51 0 1.02-.2 1.41-.59l7.78-7.78 2.81-2.81c.8-.78.8-2.07 0-2.86zM5.41 20L4 18.59l7.72-7.72 1.47 1.35L5.41 20z\"/>\n",
              "  </svg>\n",
              "      </button>\n",
              "      \n",
              "  <style>\n",
              "    .colab-df-container {\n",
              "      display:flex;\n",
              "      flex-wrap:wrap;\n",
              "      gap: 12px;\n",
              "    }\n",
              "\n",
              "    .colab-df-convert {\n",
              "      background-color: #E8F0FE;\n",
              "      border: none;\n",
              "      border-radius: 50%;\n",
              "      cursor: pointer;\n",
              "      display: none;\n",
              "      fill: #1967D2;\n",
              "      height: 32px;\n",
              "      padding: 0 0 0 0;\n",
              "      width: 32px;\n",
              "    }\n",
              "\n",
              "    .colab-df-convert:hover {\n",
              "      background-color: #E2EBFA;\n",
              "      box-shadow: 0px 1px 2px rgba(60, 64, 67, 0.3), 0px 1px 3px 1px rgba(60, 64, 67, 0.15);\n",
              "      fill: #174EA6;\n",
              "    }\n",
              "\n",
              "    [theme=dark] .colab-df-convert {\n",
              "      background-color: #3B4455;\n",
              "      fill: #D2E3FC;\n",
              "    }\n",
              "\n",
              "    [theme=dark] .colab-df-convert:hover {\n",
              "      background-color: #434B5C;\n",
              "      box-shadow: 0px 1px 3px 1px rgba(0, 0, 0, 0.15);\n",
              "      filter: drop-shadow(0px 1px 2px rgba(0, 0, 0, 0.3));\n",
              "      fill: #FFFFFF;\n",
              "    }\n",
              "  </style>\n",
              "\n",
              "      <script>\n",
              "        const buttonEl =\n",
              "          document.querySelector('#df-7195eeff-f271-469d-a593-b3a7f3d9dae7 button.colab-df-convert');\n",
              "        buttonEl.style.display =\n",
              "          google.colab.kernel.accessAllowed ? 'block' : 'none';\n",
              "\n",
              "        async function convertToInteractive(key) {\n",
              "          const element = document.querySelector('#df-7195eeff-f271-469d-a593-b3a7f3d9dae7');\n",
              "          const dataTable =\n",
              "            await google.colab.kernel.invokeFunction('convertToInteractive',\n",
              "                                                     [key], {});\n",
              "          if (!dataTable) return;\n",
              "\n",
              "          const docLinkHtml = 'Like what you see? Visit the ' +\n",
              "            '<a target=\"_blank\" href=https://colab.research.google.com/notebooks/data_table.ipynb>data table notebook</a>'\n",
              "            + ' to learn more about interactive tables.';\n",
              "          element.innerHTML = '';\n",
              "          dataTable['output_type'] = 'display_data';\n",
              "          await google.colab.output.renderOutput(dataTable, element);\n",
              "          const docLink = document.createElement('div');\n",
              "          docLink.innerHTML = docLinkHtml;\n",
              "          element.appendChild(docLink);\n",
              "        }\n",
              "      </script>\n",
              "    </div>\n",
              "  </div>\n",
              "  "
            ]
          },
          "metadata": {},
          "execution_count": 37
        }
      ]
    },
    {
      "cell_type": "code",
      "source": [
        "clusters = pd.read_table('clusters.txt',skiprows=1)\n",
        "clusters"
      ],
      "metadata": {
        "colab": {
          "base_uri": "https://localhost:8080/",
          "height": 424
        },
        "id": "jAY9ATjMZ_j8",
        "outputId": "ee59613c-437b-4f48-e1a6-545b45c0fb99"
      },
      "execution_count": 38,
      "outputs": [
        {
          "output_type": "execute_result",
          "data": {
            "text/plain": [
              "           TYPE     group     group.1\n",
              "0     A01101401  GABA_Vip  Vip_Mybpc1\n",
              "1     A01101402  GABA_Vip   Vip_Parm1\n",
              "2     A01101403  Gluta_L4    L4_Ctxn3\n",
              "3     A01101404  GABA_Vip    Vip_Chat\n",
              "4     A01101405  GABA_Vip   Vip_Parm1\n",
              "...         ...       ...         ...\n",
              "1674  Z11041427  GABA_Vip    Vip_Chat\n",
              "1675  Z11041428  GABA_Vip    Vip_Chat\n",
              "1676  Z11041429  GABA_Vip    Vip_Chat\n",
              "1677  Z11041430  GABA_Vip    Vip_Chat\n",
              "1678  Z11041431  GABA_Vip    Vip_Chat\n",
              "\n",
              "[1679 rows x 3 columns]"
            ],
            "text/html": [
              "\n",
              "  <div id=\"df-cfedd2a2-582f-4cb7-8cbb-0ab03402eb02\">\n",
              "    <div class=\"colab-df-container\">\n",
              "      <div>\n",
              "<style scoped>\n",
              "    .dataframe tbody tr th:only-of-type {\n",
              "        vertical-align: middle;\n",
              "    }\n",
              "\n",
              "    .dataframe tbody tr th {\n",
              "        vertical-align: top;\n",
              "    }\n",
              "\n",
              "    .dataframe thead th {\n",
              "        text-align: right;\n",
              "    }\n",
              "</style>\n",
              "<table border=\"1\" class=\"dataframe\">\n",
              "  <thead>\n",
              "    <tr style=\"text-align: right;\">\n",
              "      <th></th>\n",
              "      <th>TYPE</th>\n",
              "      <th>group</th>\n",
              "      <th>group.1</th>\n",
              "    </tr>\n",
              "  </thead>\n",
              "  <tbody>\n",
              "    <tr>\n",
              "      <th>0</th>\n",
              "      <td>A01101401</td>\n",
              "      <td>GABA_Vip</td>\n",
              "      <td>Vip_Mybpc1</td>\n",
              "    </tr>\n",
              "    <tr>\n",
              "      <th>1</th>\n",
              "      <td>A01101402</td>\n",
              "      <td>GABA_Vip</td>\n",
              "      <td>Vip_Parm1</td>\n",
              "    </tr>\n",
              "    <tr>\n",
              "      <th>2</th>\n",
              "      <td>A01101403</td>\n",
              "      <td>Gluta_L4</td>\n",
              "      <td>L4_Ctxn3</td>\n",
              "    </tr>\n",
              "    <tr>\n",
              "      <th>3</th>\n",
              "      <td>A01101404</td>\n",
              "      <td>GABA_Vip</td>\n",
              "      <td>Vip_Chat</td>\n",
              "    </tr>\n",
              "    <tr>\n",
              "      <th>4</th>\n",
              "      <td>A01101405</td>\n",
              "      <td>GABA_Vip</td>\n",
              "      <td>Vip_Parm1</td>\n",
              "    </tr>\n",
              "    <tr>\n",
              "      <th>...</th>\n",
              "      <td>...</td>\n",
              "      <td>...</td>\n",
              "      <td>...</td>\n",
              "    </tr>\n",
              "    <tr>\n",
              "      <th>1674</th>\n",
              "      <td>Z11041427</td>\n",
              "      <td>GABA_Vip</td>\n",
              "      <td>Vip_Chat</td>\n",
              "    </tr>\n",
              "    <tr>\n",
              "      <th>1675</th>\n",
              "      <td>Z11041428</td>\n",
              "      <td>GABA_Vip</td>\n",
              "      <td>Vip_Chat</td>\n",
              "    </tr>\n",
              "    <tr>\n",
              "      <th>1676</th>\n",
              "      <td>Z11041429</td>\n",
              "      <td>GABA_Vip</td>\n",
              "      <td>Vip_Chat</td>\n",
              "    </tr>\n",
              "    <tr>\n",
              "      <th>1677</th>\n",
              "      <td>Z11041430</td>\n",
              "      <td>GABA_Vip</td>\n",
              "      <td>Vip_Chat</td>\n",
              "    </tr>\n",
              "    <tr>\n",
              "      <th>1678</th>\n",
              "      <td>Z11041431</td>\n",
              "      <td>GABA_Vip</td>\n",
              "      <td>Vip_Chat</td>\n",
              "    </tr>\n",
              "  </tbody>\n",
              "</table>\n",
              "<p>1679 rows × 3 columns</p>\n",
              "</div>\n",
              "      <button class=\"colab-df-convert\" onclick=\"convertToInteractive('df-cfedd2a2-582f-4cb7-8cbb-0ab03402eb02')\"\n",
              "              title=\"Convert this dataframe to an interactive table.\"\n",
              "              style=\"display:none;\">\n",
              "        \n",
              "  <svg xmlns=\"http://www.w3.org/2000/svg\" height=\"24px\"viewBox=\"0 0 24 24\"\n",
              "       width=\"24px\">\n",
              "    <path d=\"M0 0h24v24H0V0z\" fill=\"none\"/>\n",
              "    <path d=\"M18.56 5.44l.94 2.06.94-2.06 2.06-.94-2.06-.94-.94-2.06-.94 2.06-2.06.94zm-11 1L8.5 8.5l.94-2.06 2.06-.94-2.06-.94L8.5 2.5l-.94 2.06-2.06.94zm10 10l.94 2.06.94-2.06 2.06-.94-2.06-.94-.94-2.06-.94 2.06-2.06.94z\"/><path d=\"M17.41 7.96l-1.37-1.37c-.4-.4-.92-.59-1.43-.59-.52 0-1.04.2-1.43.59L10.3 9.45l-7.72 7.72c-.78.78-.78 2.05 0 2.83L4 21.41c.39.39.9.59 1.41.59.51 0 1.02-.2 1.41-.59l7.78-7.78 2.81-2.81c.8-.78.8-2.07 0-2.86zM5.41 20L4 18.59l7.72-7.72 1.47 1.35L5.41 20z\"/>\n",
              "  </svg>\n",
              "      </button>\n",
              "      \n",
              "  <style>\n",
              "    .colab-df-container {\n",
              "      display:flex;\n",
              "      flex-wrap:wrap;\n",
              "      gap: 12px;\n",
              "    }\n",
              "\n",
              "    .colab-df-convert {\n",
              "      background-color: #E8F0FE;\n",
              "      border: none;\n",
              "      border-radius: 50%;\n",
              "      cursor: pointer;\n",
              "      display: none;\n",
              "      fill: #1967D2;\n",
              "      height: 32px;\n",
              "      padding: 0 0 0 0;\n",
              "      width: 32px;\n",
              "    }\n",
              "\n",
              "    .colab-df-convert:hover {\n",
              "      background-color: #E2EBFA;\n",
              "      box-shadow: 0px 1px 2px rgba(60, 64, 67, 0.3), 0px 1px 3px 1px rgba(60, 64, 67, 0.15);\n",
              "      fill: #174EA6;\n",
              "    }\n",
              "\n",
              "    [theme=dark] .colab-df-convert {\n",
              "      background-color: #3B4455;\n",
              "      fill: #D2E3FC;\n",
              "    }\n",
              "\n",
              "    [theme=dark] .colab-df-convert:hover {\n",
              "      background-color: #434B5C;\n",
              "      box-shadow: 0px 1px 3px 1px rgba(0, 0, 0, 0.15);\n",
              "      filter: drop-shadow(0px 1px 2px rgba(0, 0, 0, 0.3));\n",
              "      fill: #FFFFFF;\n",
              "    }\n",
              "  </style>\n",
              "\n",
              "      <script>\n",
              "        const buttonEl =\n",
              "          document.querySelector('#df-cfedd2a2-582f-4cb7-8cbb-0ab03402eb02 button.colab-df-convert');\n",
              "        buttonEl.style.display =\n",
              "          google.colab.kernel.accessAllowed ? 'block' : 'none';\n",
              "\n",
              "        async function convertToInteractive(key) {\n",
              "          const element = document.querySelector('#df-cfedd2a2-582f-4cb7-8cbb-0ab03402eb02');\n",
              "          const dataTable =\n",
              "            await google.colab.kernel.invokeFunction('convertToInteractive',\n",
              "                                                     [key], {});\n",
              "          if (!dataTable) return;\n",
              "\n",
              "          const docLinkHtml = 'Like what you see? Visit the ' +\n",
              "            '<a target=\"_blank\" href=https://colab.research.google.com/notebooks/data_table.ipynb>data table notebook</a>'\n",
              "            + ' to learn more about interactive tables.';\n",
              "          element.innerHTML = '';\n",
              "          dataTable['output_type'] = 'display_data';\n",
              "          await google.colab.output.renderOutput(dataTable, element);\n",
              "          const docLink = document.createElement('div');\n",
              "          docLink.innerHTML = docLinkHtml;\n",
              "          element.appendChild(docLink);\n",
              "        }\n",
              "      </script>\n",
              "    </div>\n",
              "  </div>\n",
              "  "
            ]
          },
          "metadata": {},
          "execution_count": 38
        }
      ]
    },
    {
      "cell_type": "code",
      "source": [
        "all_label_1= ['GABA_Vip', 'Gluta_L4', 'Gluta_L2_3', 'Gluta_L2', 'GABA_Pvalb',\n",
        "       'GABA_Ndnf', 'Gluta_L5a', 'NonNeu_SMC', 'NonNeu_Astro', 'Gluta_L5',\n",
        "       'NonNeu_Micro', 'NonNeu_Endo', 'GABA_Sst', 'Gluta_L6b',\n",
        "       'GABA_Sncg', 'GABA_Igtp', 'NonNeu_Oligo', 'GABA_Smad3',\n",
        "       'NonNeu_OPC', 'Gluta_L5b', 'Gluta_L6a']"
      ],
      "metadata": {
        "id": "r6xIs6aRbuWK"
      },
      "execution_count": 39,
      "outputs": []
    },
    {
      "cell_type": "code",
      "source": [
        "all_label= ['#FFFF91', '#0055FA', '#1C67F9', '#3E7FFE', '#F91D12',\n",
        "       '#FFA900', '#6095FC', '#6FAB91', '#C3F2DE', '#0793F0',\n",
        "       '#397159', '#0E472E', '#FFFF00', '#7FC3F1',\n",
        "       '#E06A40', '#E9B22C', '#179860', '#FAF712',\n",
        "       '#03F216', '#14DEFA', '#03F2EB']\n",
        "\n",
        "       "
      ],
      "metadata": {
        "id": "q70lBgYLWxXw"
      },
      "execution_count": 40,
      "outputs": []
    },
    {
      "cell_type": "code",
      "source": [
        "from matplotlib.colors import ListedColormap\n",
        "\n",
        "cmap = ListedColormap(['#FFFF91', '#0055FA', '#1C67F9', '#3E7FFE', '#F91D12',\n",
        "       '#FFA900', '#6095FC', '#6FAB91', '#C3F2DE', '#0793F0',\n",
        "       '#397159', '#0E472E', '#FFFF00', '#7FC3F1',\n",
        "       '#E06A40', '#E9B22C', '#179860', '#FAF712',\n",
        "       '#03F216', '#14DEFA', '#03F2EB'])"
      ],
      "metadata": {
        "id": "0YOZnX7QWy7Q"
      },
      "execution_count": 41,
      "outputs": []
    },
    {
      "cell_type": "code",
      "source": [
        "from sklearn.decomposition import PCA\n",
        "pca = PCA(n_components=500, random_state=1)\n",
        "pca_data= pca.fit_transform(data)"
      ],
      "metadata": {
        "id": "9clJN1R-Z_hD"
      },
      "execution_count": 42,
      "outputs": []
    },
    {
      "cell_type": "code",
      "source": [
        "clusters.group.unique()"
      ],
      "metadata": {
        "id": "OQzfgJUccKDU",
        "colab": {
          "base_uri": "https://localhost:8080/"
        },
        "outputId": "845caa20-b16c-4c58-88d2-4a8dabaa1552"
      },
      "execution_count": 43,
      "outputs": [
        {
          "output_type": "execute_result",
          "data": {
            "text/plain": [
              "array(['GABA_Vip', 'Gluta_L4', 'Gluta_L2_3', 'Gluta_L2', 'GABA_Pvalb',\n",
              "       'GABA_Ndnf', 'Gluta_L5a', 'NonNeu_SMC', 'NonNeu_Astro', 'Gluta_L5',\n",
              "       'NonNeu_Micro', 'NonNeu_Endo', 'GABA_Sst', 'Gluta_L6b',\n",
              "       'GABA_Sncg', 'GABA_Igtp', 'NonNeu_Oligo', 'GABA_Smad3',\n",
              "       'NonNeu_OPC', 'Gluta_L5b', 'Gluta_L6a'], dtype=object)"
            ]
          },
          "metadata": {},
          "execution_count": 43
        }
      ]
    },
    {
      "cell_type": "code",
      "source": [
        "target=pd.Series(clusters.group)\n",
        "list_clust = list(np.arange(21))\n",
        "lut = dict(zip(clusters.group.unique(), list_clust))\n",
        "row_colors = target.map(lut)\n",
        "row_colors"
      ],
      "metadata": {
        "id": "XonxM3m-dWsI",
        "colab": {
          "base_uri": "https://localhost:8080/"
        },
        "outputId": "1af2e2ff-91f4-4478-d150-58becea05c9c"
      },
      "execution_count": 44,
      "outputs": [
        {
          "output_type": "execute_result",
          "data": {
            "text/plain": [
              "0       0\n",
              "1       0\n",
              "2       1\n",
              "3       0\n",
              "4       0\n",
              "       ..\n",
              "1674    0\n",
              "1675    0\n",
              "1676    0\n",
              "1677    0\n",
              "1678    0\n",
              "Name: group, Length: 1679, dtype: int64"
            ]
          },
          "metadata": {},
          "execution_count": 44
        }
      ]
    },
    {
      "cell_type": "code",
      "source": [
        "list_clust"
      ],
      "metadata": {
        "id": "5ZEk6nLOc7JC",
        "colab": {
          "base_uri": "https://localhost:8080/"
        },
        "outputId": "7b2078e1-d2c6-45dc-c007-06dc5990f17a"
      },
      "execution_count": 45,
      "outputs": [
        {
          "output_type": "execute_result",
          "data": {
            "text/plain": [
              "[0, 1, 2, 3, 4, 5, 6, 7, 8, 9, 10, 11, 12, 13, 14, 15, 16, 17, 18, 19, 20]"
            ]
          },
          "metadata": {},
          "execution_count": 45
        }
      ]
    },
    {
      "cell_type": "code",
      "source": [],
      "metadata": {
        "id": "0LjqqIO9d7zq"
      },
      "execution_count": 45,
      "outputs": []
    },
    {
      "cell_type": "code",
      "source": [
        "distance_matrix_dist_nuero =pdist(pca_data)\n",
        "distance_matrix_pca_diff_neuro = (squareform(distance_matrix_dist_nuero))"
      ],
      "metadata": {
        "id": "FVS5ezYBfyk5"
      },
      "execution_count": 46,
      "outputs": []
    },
    {
      "cell_type": "code",
      "source": [
        "PCA_UMAP_diff_2D_MSD_sdg_neu = sgd(distance_matrix_pca_diff_neuro,num_dimensions=2,random_state=1)\n",
        "PCA_UMAP_diff_2D_MSD_sdg_neu"
      ],
      "metadata": {
        "id": "151xw6amfPL0",
        "colab": {
          "base_uri": "https://localhost:8080/"
        },
        "outputId": "b953df83-c975-43f0-c4ac-461e8f55854b"
      },
      "execution_count": 47,
      "outputs": [
        {
          "output_type": "execute_result",
          "data": {
            "text/plain": [
              "array([[14830.81726794, -1252.15751834],\n",
              "       [16171.09950148,  5080.1003925 ],\n",
              "       [ 8323.35113751,  8943.78086847],\n",
              "       ...,\n",
              "       [ 9028.00534218,   491.90751625],\n",
              "       [ 8902.3583167 ,   -56.53954531],\n",
              "       [ 9935.97483212,   295.2513412 ]])"
            ]
          },
          "metadata": {},
          "execution_count": 47
        }
      ]
    },
    {
      "cell_type": "code",
      "source": [],
      "metadata": {
        "id": "ho7MfzZ_yIZD"
      },
      "execution_count": 51,
      "outputs": []
    },
    {
      "cell_type": "code",
      "source": [
        "\n",
        "fig, ax = plt.subplots(1, figsize=(14, 10))\n",
        "\n",
        "plt.scatter(PCA_UMAP_diff_2D_MSD_sdg_neu[:, 0], PCA_UMAP_diff_2D_MSD_sdg_neu[:, 1], c=row_colors.astype('category'), cmap=cmap, s=5)\n",
        "plt.gca().set_aspect('equal', 'datalim')\n",
        "plt.setp(ax, xticks=[], yticks=[])\n",
        "cbar = plt.colorbar(boundaries=np.arange(22)-0.5)\n",
        "cbar.set_ticks(np.arange(22))\n",
        "cbar.set_ticklabels(all_label_1)\n"
      ],
      "metadata": {
        "id": "2h-2fN5JfPJB",
        "colab": {
          "base_uri": "https://localhost:8080/",
          "height": 575
        },
        "outputId": "d34c8652-da57-4ac6-a204-7cbccd9ff6ce"
      },
      "execution_count": 51,
      "outputs": [
        {
          "output_type": "display_data",
          "data": {
            "text/plain": [
              "<Figure size 1008x720 with 2 Axes>"
            ],
            "image/png": "[encoded data removed]"
          },
          "metadata": {}
        }
      ]
    }
  ],
  "metadata": {
    "colab": {
      "collapsed_sections": [],
      "provenance": []
    },
    "kernelspec": {
      "display_name": "Python 3",
      "name": "python3"
    },
    "language_info": {
      "name": "python"
    }
  },
  "nbformat": 4,
  "nbformat_minor": 0
}